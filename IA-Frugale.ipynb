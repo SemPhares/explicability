{
 "cells": [
  {
   "cell_type": "markdown",
   "id": "2bbb2986",
   "metadata": {},
   "source": [
    "# IA Frugale\n",
    "\n",
    "Dans ce TP nous allons présenter des métriques de performance d'un modèle ainsi que des techniques d'optimisation afin de rendre un modèle plus efficace en termes de taille et de temps d'inférence, et minimiser donc son empreinte carbone.\n",
    "\n",
    "> **Données**\n",
    "\n",
    "Nous utiliserons un jeu de données très connu en traitement d'image : CIFAR 10. Il s'agit d'images objets appartenant à 10 catégories. Nous utiliserons en particulier un sous ensemble constitué uniquement de 3 catégories sur les 10 : `plane`, `car`, `bird`. Chaque image est de taille `32` (longueur) x `32` (largeur) x `3` (nombre de couches couleurs, i.e. rouge-vert-bleu)\n",
    "\n",
    "> **Modèles**\n",
    "\n",
    "Les différentes expérimentations de ce TP seront basées sur des modèles de [réseaux de neurones convolutifs](https://fr.wikipedia.org/wiki/R%C3%A9seau_neuronal_convolutif) classiquement utilisés en traitement d'images. \n",
    "\n",
    "La tâche qui sera réalisée par ces modèles est une classification multi-classes.\n",
    "\n",
    "Nous utiliserons [Pytorch](https://pytorch.org/) comme framework d'entrainement de nos modèles.\n",
    "\n",
    "> **Métriques**\n",
    "\n",
    "Nous utiliserons les principales métriques de performance suivante :\n",
    "\n",
    "* Accuracy, i.e. le taux de bonnes prédictions\n",
    "* temps d'inférence\n",
    "* Taille du modèle sur disque\n",
    "* Emission CO2 du modèle\n",
    "* Flops : nombre total d'opérations de floating points (décimales) effectuées par le modèle."
   ]
  },
  {
   "cell_type": "markdown",
   "id": "14401a46",
   "metadata": {},
   "source": [
    "# Import"
   ]
  },
  {
   "cell_type": "code",
   "execution_count": 1,
   "id": "373d720c",
   "metadata": {},
   "outputs": [],
   "source": [
    "import warnings\n",
    "warnings.filterwarnings('ignore')"
   ]
  },
  {
   "cell_type": "code",
   "execution_count": 2,
   "id": "1dc0099e",
   "metadata": {},
   "outputs": [],
   "source": [
    "import torch\n",
    "torch.set_num_threads(1)\n",
    "from codecarbon import OfflineEmissionsTracker\n",
    "import pandas as pd\n",
    "\n",
    "torch.multiprocessing.set_sharing_strategy('file_system')"
   ]
  },
  {
   "cell_type": "code",
   "execution_count": 3,
   "id": "1d60905f",
   "metadata": {},
   "outputs": [],
   "source": [
    "import sys\n",
    "sys.path.append(\"../src/\")"
   ]
  },
  {
   "cell_type": "code",
   "execution_count": 4,
   "id": "9f83492c",
   "metadata": {},
   "outputs": [
    {
     "name": "stderr",
     "output_type": "stream",
     "text": [
      "Global seed set to 123\n",
      "Global seed set to 123\n"
     ]
    }
   ],
   "source": [
    "from data_utils import (\n",
    "    load_cifar10_subset,\n",
    "    imshow,\n",
    "    convert_list_batches_to_dataloader\n",
    ")\n",
    "from model_utils import (\n",
    "    create_model_and_optimizer,\n",
    "    train,\n",
    "    evaluate,\n",
    "    get_inference_time,\n",
    "    get_model_flops,\n",
    "    prune_model,\n",
    "    quantize_model,\n",
    "    get_model_size\n",
    ")\n",
    "from plot_utils import plot_bars, plot_histogram\n",
    "from tqdm.auto import tqdm\n",
    "import copy"
   ]
  },
  {
   "cell_type": "markdown",
   "id": "c7846d30",
   "metadata": {},
   "source": [
    "# Chargement et préparation du jeu de données\n",
    "\n",
    "Pour commencer, nous allons charger les données d'entrainement et de test. Ce chargement peut être effectué à l'aide de la fonction `load_cifar10_subset`.\n",
    "\n",
    "> Tips : Vous pouvez afficher le contenu et les paramètres d'une fonction en tapant la commande `??ma_fonction` dans une cellule du notebook."
   ]
  },
  {
   "cell_type": "code",
   "execution_count": 5,
   "id": "dd7d722d",
   "metadata": {},
   "outputs": [],
   "source": [
    "??load_cifar10_subset"
   ]
  },
  {
   "cell_type": "markdown",
   "id": "22cca3ed",
   "metadata": {},
   "source": [
    "---\n",
    "**Exercice 1** : \n",
    "\n",
    "* charger les données d'entrainement et de test à l'aide de la fonction `load_cifar10_subset`\n",
    "* Afficher quelques exemples d'images à l'aide de la fonction\n",
    "* Initialiser des Dataframes pandas vides avec deux colonnes `Métrique`et `Ratio`, dans lesquelles nous stockerons les différentes métriques ainsi que les ratios (par rapport au modèle baseline) que nous allons calculer plus tard"
   ]
  },
  {
   "cell_type": "code",
   "execution_count": 6,
   "id": "0b4d5579",
   "metadata": {},
   "outputs": [
    {
     "name": "stdout",
     "output_type": "stream",
     "text": [
      "Files already downloaded and verified\n",
      "Files already downloaded and verified\n"
     ]
    },
    {
     "data": {
      "application/vnd.jupyter.widget-view+json": {
       "model_id": "53e065fc779a46159aa004c3db9ea723",
       "version_major": 2,
       "version_minor": 0
      },
      "text/plain": [
       "  0%|          | 0/50000 [00:00<?, ?it/s]"
      ]
     },
     "metadata": {},
     "output_type": "display_data"
    },
    {
     "data": {
      "application/vnd.jupyter.widget-view+json": {
       "model_id": "0443f0dde3bb42969ea83165db936f5e",
       "version_major": 2,
       "version_minor": 0
      },
      "text/plain": [
       "  0%|          | 0/10000 [00:00<?, ?it/s]"
      ]
     },
     "metadata": {},
     "output_type": "display_data"
    }
   ],
   "source": [
    "train_loader, test_loader = load_cifar10_subset()"
   ]
  },
  {
   "cell_type": "markdown",
   "id": "f44f2c33",
   "metadata": {},
   "source": [
    "les objets `train_loader` et `test_loader` sont des itérateurs qui renvoient des tuples ($x$, $y$) où :\n",
    "\n",
    "* $x$ représente un batch d'images qui n'est rien d'autre qu'une matrice de plusieurs dimensions. \n",
    "\n",
    "    * la première dimension représente le nombre d'images contenues dans le batch (fixé à `8` dans notre cas et défini dans la fonction `load_cifar10_subset`)\n",
    "    * la 2ème dimension représente le nombre de couches couleurs (3) \n",
    "    * les 3ème et 4ème dimensions correspondent à la largeur et longueur respectivement.\n",
    "    \n",
    "    Cette matrice est un objet `Tensor` Pytorch qui est très similaire à un array Numpy. Les valeurs contenues dans cette matrice représentent tout simplement les pixels des images.\n",
    "* $y$ est le batch de labels correspondant aux images $x$.\n",
    "    * le label `y = 0` correspond à la classe `plane`\n",
    "    * le label `y = 1` correspond à la classe `car`\n",
    "    * le label `y = 2` correspond à la classe `bird`\n",
    "\n",
    "On peut récupérer un batch d'images et de label de la manière suivante :"
   ]
  },
  {
   "cell_type": "code",
   "execution_count": 7,
   "id": "f3f0e9c7",
   "metadata": {},
   "outputs": [
    {
     "name": "stdout",
     "output_type": "stream",
     "text": [
      "Dimensions de x :  torch.Size([8, 3, 32, 32])  \t Dimensions de y : torch.Size([8])\n",
      "------ x :\n",
      "tensor([[[[ 0.2157,  0.3098,  0.3804,  ...,  0.5765,  0.5843,  0.5059],\n",
      "          [ 0.2000,  0.2784,  0.3412,  ...,  0.5843,  0.5922,  0.4824],\n",
      "          [ 0.2157,  0.2549,  0.3176,  ...,  0.6157,  0.6000,  0.4824],\n",
      "          ...,\n",
      "          [-0.3020, -0.5529, -0.5216,  ..., -0.3020, -0.5373, -0.4745],\n",
      "          [-0.3020, -0.5294, -0.5059,  ..., -0.5529, -0.5216, -0.4118],\n",
      "          [-0.2784, -0.5294, -0.5216,  ..., -0.5294, -0.4980, -0.4275]],\n",
      "\n",
      "         [[ 0.2235,  0.3804,  0.4039,  ...,  0.5373,  0.5843,  0.4353],\n",
      "          [ 0.2157,  0.4039,  0.4431,  ...,  0.6314,  0.6863,  0.4902],\n",
      "          [ 0.2078,  0.3961,  0.4510,  ...,  0.6314,  0.6863,  0.4980],\n",
      "          ...,\n",
      "          [-0.3804, -0.5843, -0.5216,  ..., -0.0667, -0.3804, -0.4196],\n",
      "          [-0.3569, -0.5451, -0.4824,  ..., -0.4824, -0.4980, -0.4588],\n",
      "          [-0.3882, -0.5922, -0.5451,  ..., -0.5059, -0.4902, -0.4667]],\n",
      "\n",
      "         [[ 0.1686,  0.4667,  0.5137,  ...,  0.6392,  0.6627,  0.3412],\n",
      "          [ 0.2314,  0.6000,  0.6863,  ...,  0.7412,  0.7804,  0.4353],\n",
      "          [ 0.2000,  0.5765,  0.6706,  ...,  0.6863,  0.7569,  0.4431],\n",
      "          ...,\n",
      "          [-0.5137, -0.5922, -0.5373,  ..., -0.2078, -0.5137, -0.6078],\n",
      "          [-0.5137, -0.5843, -0.5451,  ..., -0.5451, -0.5765, -0.6000],\n",
      "          [-0.4980, -0.6000, -0.6000,  ..., -0.6078, -0.5922, -0.6078]]],\n",
      "\n",
      "\n",
      "        [[[ 0.2549,  0.4510,  0.6392,  ..., -0.2078, -0.2863, -0.2627],\n",
      "          [ 0.7647,  0.8745,  0.8980,  ..., -0.1608, -0.2392, -0.2157],\n",
      "          [ 0.9765,  0.9529,  0.8902,  ..., -0.0980, -0.1765, -0.1765],\n",
      "          ...,\n",
      "          [-0.3725, -0.3020, -0.3647,  ..., -0.9137, -0.8353, -0.7412],\n",
      "          [-0.4275, -0.3804, -0.4275,  ..., -0.8824, -0.7882, -0.7569],\n",
      "          [-0.4588, -0.4353, -0.4039,  ..., -0.7961, -0.7647, -0.7725]],\n",
      "\n",
      "         [[-0.7098, -0.6157, -0.5529,  ..., -0.8588, -0.8353, -0.8510],\n",
      "          [-0.4745, -0.4353, -0.3961,  ..., -0.8353, -0.8275, -0.8588],\n",
      "          [-0.4353, -0.4667, -0.4353,  ..., -0.8431, -0.8510, -0.8667],\n",
      "          ...,\n",
      "          [-0.7412, -0.7098, -0.6941,  ..., -0.8902, -0.8118, -0.7725],\n",
      "          [-0.7255, -0.7098, -0.6784,  ..., -0.8431, -0.7569, -0.7647],\n",
      "          [-0.6706, -0.6706, -0.5373,  ..., -0.7804, -0.7490, -0.7647]],\n",
      "\n",
      "         [[-0.8980, -0.9137, -0.8902,  ..., -0.9373, -0.9529, -0.9608],\n",
      "          [-0.8980, -0.9059, -0.9216,  ..., -0.9373, -0.9686, -0.9529],\n",
      "          [-0.9451, -0.9686, -0.9765,  ..., -0.9529, -0.9765, -0.9529],\n",
      "          ...,\n",
      "          [-0.7412, -0.6863, -0.6549,  ..., -0.9137, -0.8353, -0.7804],\n",
      "          [-0.7098, -0.6784, -0.6235,  ..., -0.8588, -0.7725, -0.7804],\n",
      "          [-0.6549, -0.6157, -0.4510,  ..., -0.7569, -0.7333, -0.7804]]],\n",
      "\n",
      "\n",
      "        [[[ 0.7020,  0.6471,  0.6078,  ...,  0.3333,  0.2627,  0.2706],\n",
      "          [ 0.7412,  0.7333,  0.7255,  ...,  0.4353,  0.4588,  0.5686],\n",
      "          [ 0.8353,  0.8275,  0.8118,  ...,  0.5843,  0.6314,  0.6549],\n",
      "          ...,\n",
      "          [ 0.2706,  0.1843,  0.1529,  ..., -0.2314,  0.3647,  0.4588],\n",
      "          [ 0.1608,  0.1059,  0.1137,  ...,  0.0275,  0.4039,  0.4118],\n",
      "          [ 0.1294,  0.1686,  0.2549,  ...,  0.2863,  0.4275,  0.4588]],\n",
      "\n",
      "         [[ 0.6863,  0.6314,  0.6314,  ...,  0.4431,  0.3804,  0.2941],\n",
      "          [ 0.7725,  0.7569,  0.7647,  ...,  0.4902,  0.4980,  0.5451],\n",
      "          [ 0.8431,  0.8353,  0.8353,  ...,  0.6157,  0.6392,  0.6471],\n",
      "          ...,\n",
      "          [ 0.2549,  0.1608,  0.1451,  ..., -0.2314,  0.3725,  0.4588],\n",
      "          [ 0.1529,  0.1059,  0.1137,  ...,  0.0353,  0.4275,  0.4196],\n",
      "          [ 0.1451,  0.1765,  0.2627,  ...,  0.2784,  0.4275,  0.4510]],\n",
      "\n",
      "         [[ 0.6392,  0.5843,  0.4980,  ...,  0.2314,  0.1686,  0.1686],\n",
      "          [ 0.6627,  0.6627,  0.6471,  ...,  0.3333,  0.3569,  0.4588],\n",
      "          [ 0.8039,  0.7961,  0.7804,  ...,  0.4745,  0.5451,  0.5529],\n",
      "          ...,\n",
      "          [ 0.5608,  0.5216,  0.5216,  ...,  0.0431,  0.7490,  0.8196],\n",
      "          [ 0.5137,  0.4745,  0.4902,  ...,  0.3569,  0.8196,  0.8118],\n",
      "          [ 0.5373,  0.5608,  0.6314,  ...,  0.6000,  0.7647,  0.7490]]],\n",
      "\n",
      "\n",
      "        ...,\n",
      "\n",
      "\n",
      "        [[[-0.2157, -0.4667, -0.0902,  ..., -0.0980, -0.0824, -0.0980],\n",
      "          [-0.2471, -0.0980, -0.0196,  ..., -0.0588, -0.0510, -0.0745],\n",
      "          [-0.0510, -0.0275,  0.0039,  ..., -0.0510, -0.0588, -0.0510],\n",
      "          ...,\n",
      "          [-0.1686, -0.1608, -0.1451,  ...,  0.5451,  0.4745,  0.3961],\n",
      "          [-0.1608, -0.1451, -0.1137,  ...,  0.4745,  0.5765,  0.5843],\n",
      "          [-0.3020, -0.0588, -0.0196,  ..., -0.0275,  0.1686,  0.2549]],\n",
      "\n",
      "         [[-0.1922, -0.2863,  0.2706,  ...,  0.3647,  0.3569,  0.3333],\n",
      "          [-0.0588,  0.2235,  0.3725,  ...,  0.3725,  0.3647,  0.3490],\n",
      "          [ 0.3333,  0.4275,  0.4902,  ...,  0.3882,  0.3804,  0.3804],\n",
      "          ...,\n",
      "          [ 0.1843,  0.2000,  0.2392,  ...,  0.0275,  0.0824,  0.3412],\n",
      "          [ 0.2235,  0.2000,  0.2549,  ..., -0.0196,  0.1137,  0.2471],\n",
      "          [ 0.0980,  0.2549,  0.1765,  ..., -0.2863, -0.1059, -0.0510]],\n",
      "\n",
      "         [[-0.4196, -0.4902, -0.1451,  ..., -0.2235, -0.1686, -0.1529],\n",
      "          [-0.3804, -0.2157, -0.1137,  ..., -0.1373, -0.1059, -0.0980],\n",
      "          [-0.1529, -0.1216, -0.1294,  ..., -0.0980, -0.1137, -0.0980],\n",
      "          ...,\n",
      "          [-0.2392, -0.2078, -0.1843,  ..., -0.0510,  0.1451,  0.4588],\n",
      "          [-0.2627, -0.2392, -0.1529,  ..., -0.1451, -0.0039,  0.1451],\n",
      "          [-0.4118, -0.1529, -0.1843,  ..., -0.4667, -0.2627, -0.2157]]],\n",
      "\n",
      "\n",
      "        [[[ 0.6549,  0.7255,  0.7490,  ...,  0.5529,  0.4667,  0.3961],\n",
      "          [ 0.6627,  0.7255,  0.7725,  ...,  0.5686,  0.4824,  0.4118],\n",
      "          [ 0.6314,  0.6863,  0.7412,  ...,  0.5608,  0.4588,  0.3961],\n",
      "          ...,\n",
      "          [-0.1137, -0.1216, -0.1529,  ..., -0.6863, -0.7176, -0.7020],\n",
      "          [-0.1451, -0.1686, -0.1765,  ..., -0.7333, -0.7255, -0.6784],\n",
      "          [-0.1843, -0.2000, -0.2078,  ..., -0.6863, -0.7255, -0.6549]],\n",
      "\n",
      "         [[ 0.8902,  0.9216,  0.9608,  ...,  0.7098,  0.6549,  0.6078],\n",
      "          [ 0.8980,  0.9373,  0.9843,  ...,  0.7098,  0.6549,  0.6157],\n",
      "          [ 0.8588,  0.9059,  0.9529,  ...,  0.6784,  0.6157,  0.5765],\n",
      "          ...,\n",
      "          [-0.2235, -0.2235, -0.2471,  ..., -0.4980, -0.5686, -0.6392],\n",
      "          [-0.2627, -0.2706, -0.2627,  ..., -0.5843, -0.5922, -0.6235],\n",
      "          [-0.3020, -0.3020, -0.2941,  ..., -0.5765, -0.6235, -0.6078]],\n",
      "\n",
      "         [[ 0.7490,  0.8196,  0.9294,  ...,  0.4980,  0.3882,  0.3176],\n",
      "          [ 0.7412,  0.8039,  0.9216,  ...,  0.4745,  0.3961,  0.3255],\n",
      "          [ 0.6784,  0.7412,  0.8510,  ...,  0.4275,  0.3569,  0.2863],\n",
      "          ...,\n",
      "          [-0.5059, -0.4667, -0.4588,  ..., -0.7882, -0.7961, -0.8353],\n",
      "          [-0.5373, -0.5137, -0.4902,  ..., -0.8118, -0.7961, -0.8353],\n",
      "          [-0.5608, -0.5529, -0.5294,  ..., -0.7490, -0.8118, -0.8510]]],\n",
      "\n",
      "\n",
      "        [[[-0.4824, -0.4824, -0.4980,  ..., -0.1843, -0.1843, -0.1843],\n",
      "          [-0.6000, -0.5686, -0.6157,  ..., -0.2627, -0.2549, -0.2471],\n",
      "          [-0.6157, -0.5686, -0.6235,  ..., -0.3882, -0.3961, -0.3882],\n",
      "          ...,\n",
      "          [ 0.2000,  0.0039, -0.3725,  ...,  0.4431,  0.4353,  0.4275],\n",
      "          [ 0.2549,  0.1137, -0.2157,  ...,  0.4431,  0.4431,  0.4353],\n",
      "          [ 0.2941,  0.2000, -0.0588,  ...,  0.4431,  0.4431,  0.4353]],\n",
      "\n",
      "         [[-0.4275, -0.4431, -0.4745,  ..., -0.2392, -0.2392, -0.2392],\n",
      "          [-0.5529, -0.5373, -0.6000,  ..., -0.3176, -0.3098, -0.3020],\n",
      "          [-0.5843, -0.5451, -0.6157,  ..., -0.4588, -0.4667, -0.4588],\n",
      "          ...,\n",
      "          [ 0.2235,  0.0118, -0.3804,  ...,  0.4431,  0.4353,  0.4275],\n",
      "          [ 0.2863,  0.1373, -0.2235,  ...,  0.4824,  0.4745,  0.4667],\n",
      "          [ 0.3412,  0.2235, -0.0588,  ...,  0.5137,  0.5059,  0.4980]],\n",
      "\n",
      "         [[-0.3412, -0.3647, -0.4118,  ..., -0.3647, -0.3647, -0.3647],\n",
      "          [-0.4745, -0.4667, -0.5451,  ..., -0.4431, -0.4353, -0.4275],\n",
      "          [-0.5059, -0.4745, -0.5686,  ..., -0.5686, -0.5765, -0.5608],\n",
      "          ...,\n",
      "          [ 0.0431, -0.1608, -0.5059,  ...,  0.0980,  0.0902,  0.0824],\n",
      "          [ 0.0667, -0.0824, -0.3804,  ...,  0.1216,  0.1216,  0.1137],\n",
      "          [ 0.0902, -0.0353, -0.2392,  ...,  0.1451,  0.1373,  0.1294]]]])\n",
      "------ y :\n",
      "tensor([0, 1, 1, 0, 0, 2, 0, 2])\n"
     ]
    }
   ],
   "source": [
    "x, y = next(iter(test_loader))\n",
    "print(\"Dimensions de x : \", x.shape, \" \\t Dimensions de y :\", y.shape)\n",
    "print(\"------ x :\")\n",
    "print(x)\n",
    "print(\"------ y :\")\n",
    "print(y)"
   ]
  },
  {
   "cell_type": "code",
   "execution_count": 8,
   "id": "b5dbb51b",
   "metadata": {},
   "outputs": [
    {
     "data": {
      "image/png": "[encoded data removed]",
      "text/plain": [
       "<Figure size 504x432 with 1 Axes>"
      ]
     },
     "metadata": {
      "needs_background": "light"
     },
     "output_type": "display_data"
    }
   ],
   "source": [
    "# Afficher quelques exemples d'images pour le jeu d'entrainement\n",
    "imshow(train_loader)"
   ]
  },
  {
   "cell_type": "code",
   "execution_count": 9,
   "id": "37cd1890",
   "metadata": {},
   "outputs": [
    {
     "data": {
      "image/png": "[encoded data removed]",
      "text/plain": [
       "<Figure size 504x432 with 1 Axes>"
      ]
     },
     "metadata": {
      "needs_background": "light"
     },
     "output_type": "display_data"
    }
   ],
   "source": [
    "# Afficher quelques exemples d'images pour le jeu de test\n",
    "imshow(test_loader)"
   ]
  },
  {
   "cell_type": "code",
   "execution_count": 10,
   "id": "652e3189",
   "metadata": {},
   "outputs": [],
   "source": [
    "# Initialisation du stockage des résultats\n",
    "\n",
    "# créer des dataframes pandas vides avec deux colonnes \"Métrique\" et \"Ratio\"\n",
    "df_accuracy = pd.DataFrame(columns=[\"Métrique\", \"Ratio\"])\n",
    "df_co2_inference = pd.DataFrame(columns=[\"Métrique\", \"Ratio\"])\n",
    "df_size = pd.DataFrame(columns=[\"Métrique\", \"Ratio\"])\n",
    "df_flops = pd.DataFrame(columns=[\"Métrique\", \"Ratio\"])\n",
    "\n",
    "# Initialiser un dictionnaire vide\n",
    "dict_inference_time = {}"
   ]
  },
  {
   "cell_type": "markdown",
   "id": "f0946705",
   "metadata": {},
   "source": [
    "# Modèle baseline\n",
    "\n",
    "Pour démontrer l'impact de différentes techniques d'optimisation, nous allons partir d'un modèle `baseline` qui va être notre modèle de référence. Ce modèle a déjà été pré-entraîné et est donc fournis, il suffit de le charger.\n",
    "\n",
    "Il s'agit d'un réseau convolutif à 4 couches qui a été optimisé lors de 10 epochs sur la donnée d'entraînement. Les spécifications de ce modèle sont :\n",
    "\n",
    "* 4 couches de convolution de tailles 24, 48, 64 et 64 respectivement\n",
    "* 2 couches denses de tailles 258 et 128\n",
    "* 1 couche dense de taille 3 (couche de classification)\n",
    "\n",
    "Pour plus de détails, voir le script [`src/train_cifar.py`](../src/train_cifar.py) ayant servi à l'entrainement de ce modèle."
   ]
  },
  {
   "cell_type": "code",
   "execution_count": 11,
   "id": "bdb95e8d",
   "metadata": {},
   "outputs": [],
   "source": [
    "# Chargement du modèle \n",
    "model_path = \"../data/model_cifar_big.pt\"\n",
    "model_large = torch.load(model_path)"
   ]
  },
  {
   "cell_type": "code",
   "execution_count": 12,
   "id": "87c1fcf3",
   "metadata": {},
   "outputs": [
    {
     "name": "stdout",
     "output_type": "stream",
     "text": [
      "ConvNet(\n",
      "  (conv_module): Sequential(\n",
      "    (0): Conv2d(3, 24, kernel_size=(5, 5), stride=(1, 1), padding=(2, 2))\n",
      "    (1): ReLU()\n",
      "    (2): Conv2d(24, 48, kernel_size=(5, 5), stride=(1, 1))\n",
      "    (3): ReLU()\n",
      "    (4): MaxPool2d(kernel_size=2, stride=2, padding=0, dilation=1, ceil_mode=False)\n",
      "    (5): Conv2d(48, 64, kernel_size=(5, 5), stride=(1, 1), padding=(2, 2))\n",
      "    (6): ReLU()\n",
      "    (7): Conv2d(64, 64, kernel_size=(5, 5), stride=(1, 1))\n",
      "    (8): ReLU()\n",
      "    (9): MaxPool2d(kernel_size=2, stride=2, padding=0, dilation=1, ceil_mode=False)\n",
      "  )\n",
      "  (fc): Sequential(\n",
      "    (0): Flatten(start_dim=1, end_dim=-1)\n",
      "    (1): Linear(in_features=1600, out_features=258, bias=True)\n",
      "    (2): ReLU()\n",
      "    (3): Linear(in_features=258, out_features=128, bias=True)\n",
      "    (4): ReLU()\n",
      "    (5): Linear(in_features=128, out_features=3, bias=True)\n",
      "  )\n",
      ")\n"
     ]
    }
   ],
   "source": [
    "# On peut afficher le modèle comme n'importe quel objet python : \n",
    "print(model_large)"
   ]
  },
  {
   "cell_type": "markdown",
   "id": "a6fc0a0d",
   "metadata": {},
   "source": [
    "---\n",
    "**Exercice 2** : Calculer les métriques suivantes pour le modèle baseline et les stocker dans les séries précédemment initialisées :\n",
    "\n",
    "* Accuracy à l'aide de la fonction `evaluate`\n",
    "* le nombre d'opérations (flops) à l'aide de la fonction `get_model_flops`\n",
    "* la taille du modèle sur disque à l'aide de la fonction `get_model_size`\n",
    "* le temps d'inférence estimé pour *10 000 itérations*, à l'aide de la fonction `get_inference_time`\n",
    "* Emission CO2 pendant le temps d'inférence. Pour cela nous utiliserons la librairie [CodeCarbon](https://mlco2.github.io/codecarbon/index.html) qui permet d'estimer l'émission CO2 d'un traitement algorithmique"
   ]
  },
  {
   "cell_type": "markdown",
   "id": "087bf29c",
   "metadata": {},
   "source": [
    "> Accuracy"
   ]
  },
  {
   "cell_type": "code",
   "execution_count": 13,
   "id": "fedbf74a",
   "metadata": {},
   "outputs": [
    {
     "data": {
      "application/vnd.jupyter.widget-view+json": {
       "model_id": "06cc84268e9c419b8ebb5ca9f85cf9c3",
       "version_major": 2,
       "version_minor": 0
      },
      "text/plain": [
       "  0%|          | 0/375 [00:00<?, ?it/s]"
      ]
     },
     "metadata": {},
     "output_type": "display_data"
    },
    {
     "name": "stdout",
     "output_type": "stream",
     "text": [
      "Accuracy of the network on the 375 test images: 90 %\n",
      "CPU times: user 14.3 s, sys: 1.26 s, total: 15.5 s\n",
      "Wall time: 16.2 s\n"
     ]
    }
   ],
   "source": [
    "%%time\n",
    "\n",
    "accuracy_large = evaluate(model=model_large, test_loader=test_loader)\n",
    "df_accuracy.loc[\"model_large\", \"Métrique\"] = accuracy_large\n",
    "df_accuracy.loc[\"model_large\", \"Ratio\"] = 1"
   ]
  },
  {
   "cell_type": "markdown",
   "id": "ff19c713",
   "metadata": {},
   "source": [
    "> Flops"
   ]
  },
  {
   "cell_type": "code",
   "execution_count": 14,
   "id": "d407a388",
   "metadata": {},
   "outputs": [],
   "source": [
    "flops_large = get_model_flops(model=model_large)\n",
    "\n",
    "df_flops.loc[\"model_large\", \"Métrique\"] = flops_large\n",
    "df_flops.loc[\"model_large\", \"Ratio\"] = 1"
   ]
  },
  {
   "cell_type": "markdown",
   "id": "bb1c6170",
   "metadata": {},
   "source": [
    "> Taille du modèle"
   ]
  },
  {
   "cell_type": "code",
   "execution_count": 15,
   "id": "d4f2cfd7",
   "metadata": {},
   "outputs": [
    {
     "name": "stdout",
     "output_type": "stream",
     "text": [
      "Size (MB): 2.630587\n"
     ]
    }
   ],
   "source": [
    "size_large = get_model_size(model=model_large)\n",
    "\n",
    "df_size.loc[\"model_large\", \"Métrique\"] = size_large\n",
    "df_size.loc[\"model_large\", \"Ratio\"] = 1"
   ]
  },
  {
   "cell_type": "markdown",
   "id": "18caad49",
   "metadata": {},
   "source": [
    "> Temps d'inference et emission de CO2\n",
    "\n",
    "L'outil `CodeCarbon` offre deux modes d'estimation de l'émission CO2:\n",
    "\n",
    "* Online : lorsqu'on est dans un environnement ayant un accès internet\n",
    "* Offline : dans un environnement contraint sans accès à internet. Dans ce cas, il faudra préciser le pays dans lequel est située l'infrastructure qu'on cherche à évaluer.\n",
    "\n",
    "Nous allons utiliser le mode Offline et préciser la France comme pays d'intérêt."
   ]
  },
  {
   "cell_type": "code",
   "execution_count": 16,
   "id": "398779fa",
   "metadata": {},
   "outputs": [],
   "source": [
    "# code du pays, 3 lettres : FRA pour France, DEU for l'allemagne, # TODO\n",
    "# cf. page https://en.wikipedia.org/wiki/List_of_ISO_3166_country_codes\n",
    "country = \"FRA\""
   ]
  },
  {
   "cell_type": "code",
   "execution_count": 17,
   "id": "bdf36d7d",
   "metadata": {},
   "outputs": [
    {
     "name": "stderr",
     "output_type": "stream",
     "text": [
      "CODECARBON : No CPU tracking mode found. Falling back on CPU constant mode.\n"
     ]
    },
    {
     "data": {
      "application/vnd.jupyter.widget-view+json": {
       "model_id": "0218044358f74ea49ad56e8adbd1203a",
       "version_major": 2,
       "version_minor": 0
      },
      "text/plain": [
       "  0%|          | 0/10000 [00:00<?, ?it/s]"
      ]
     },
     "metadata": {},
     "output_type": "display_data"
    }
   ],
   "source": [
    "# Instanciation l'objet\n",
    "tracker = OfflineEmissionsTracker(country_iso_code=country)\n",
    "tracker.start()  # démarrage du monitoring emission CO2\n",
    "list_duration_large = get_inference_time(model=model_large, nb_iterations=10_000)\n",
    "emissions_large_inference = tracker.stop()  # fin du monitoring emission CO2"
   ]
  },
  {
   "cell_type": "code",
   "execution_count": 18,
   "id": "be9d31dc",
   "metadata": {},
   "outputs": [],
   "source": [
    "# Sauvegarder l'emission CO2 \n",
    "\n",
    "df_co2_inference.loc[\"model_large\", \"Métrique\"] = emissions_large_inference\n",
    "df_co2_inference.loc[\"model_large\", \"Ratio\"] = 1"
   ]
  },
  {
   "cell_type": "code",
   "execution_count": 19,
   "id": "7bdbaf39",
   "metadata": {},
   "outputs": [],
   "source": [
    "# Sauvegarder les temps d'inférences sur les 10000 itérations\n",
    "dict_inference_time[\"model_large\"] = list_duration_large"
   ]
  },
  {
   "cell_type": "markdown",
   "id": "cb10a644",
   "metadata": {},
   "source": [
    "# Technique d'optimisation n° 1 : l'élagage\n",
    "\n",
    "L'élagage est une méthode de `compression` qui consiste à annuler (remplacer par des `0`) une partie des poids/couches d'un réseau de neurones afin de le rendre plus performant en termes de temps d'inférence.\n",
    "\n",
    "Il existe essentiellement deux types d'élagage : \n",
    "\n",
    "* Non structuré : on élague (annule) individuellement les poids (neurones) les moins importants, conduisant ainsi à des matrices de poids éparses. Ce type d'élagage peut permettre de réduire l'espace mémoire du modèle, mais pas nécessairement la vitesse d'inférence, à moins de disposer d'un processeur qui implémente des opérations efficientes pour des matrices éparses.\n",
    "* Structuré : on élague un groupe de neurones, comme par exemple une partie entière des filtres de convolution. Ces groupes de neurones élagués peuvent alors être complètement rétirés du modèle. Cette approche permet donc d'économiser de l'espace mémoire et d'améliorer la performance computationnelle.\n",
    "\n",
    "Dans ce TP nous allons expérimenter l'élagage structuré.\n",
    "\n",
    "Un paramètre important est la quantité d'élagage qu'on veut appliquer. Plus on élague le modèle, plus on améliore sa performance et plus on dégrade son accuracy. Il y a donc un compromis à faire à ce niveau."
   ]
  },
  {
   "cell_type": "markdown",
   "id": "e81a9922",
   "metadata": {},
   "source": [
    "--- \n",
    "**Exercice 3** : \n",
    "\n",
    "* Appliquer un élagage à 0.5 (i.e. 50%) au modèle de base et calculer les différentes métriques associées à ce nouveau modèle élagué. On pourra se servir de la fonction `prune_model` pour l'élagage.\n",
    "* Calculer les différentes métriques définies précédemment pour le modèle élagué.\n",
    "\n",
    "> Pour le calcul du temps d'inférence et de l'émission CO2, on pourra s'inspirer du code de calcul de CO2 vu plus haut. Le temps d'inférence sera stocké dans la variable `list_duration_large_pruned`, et l'emission CO2 sera stockée dans la variable `emissions_large_inference_pruned`"
   ]
  },
  {
   "cell_type": "code",
   "execution_count": 20,
   "id": "76f639d0",
   "metadata": {},
   "outputs": [],
   "source": [
    "model_large_pruned = prune_model(model=model_large, pruning_percentage=0.5)"
   ]
  },
  {
   "cell_type": "code",
   "execution_count": 21,
   "id": "f32276fc",
   "metadata": {},
   "outputs": [
    {
     "data": {
      "application/vnd.jupyter.widget-view+json": {
       "model_id": "87278b837e3548d58cfacb16862c7e47",
       "version_major": 2,
       "version_minor": 0
      },
      "text/plain": [
       "  0%|          | 0/375 [00:00<?, ?it/s]"
      ]
     },
     "metadata": {},
     "output_type": "display_data"
    },
    {
     "name": "stdout",
     "output_type": "stream",
     "text": [
      "Accuracy of the network on the 375 test images: 90 %\n"
     ]
    }
   ],
   "source": [
    "# Calcul de l'accuracy\n",
    "accuracy_large_pruned = evaluate(model=model_large, test_loader=test_loader)\n",
    "\n",
    "df_accuracy.loc[\"model_large_pruned\", \"Métrique\"] = accuracy_large_pruned\n",
    "df_accuracy.loc[\"model_large_pruned\", \"Ratio\"] = accuracy_large_pruned/accuracy_large"
   ]
  },
  {
   "cell_type": "code",
   "execution_count": null,
   "id": "0d200f8e",
   "metadata": {},
   "outputs": [
    {
     "name": "stderr",
     "output_type": "stream",
     "text": [
      "CODECARBON : No CPU tracking mode found. Falling back on CPU constant mode.\n"
     ]
    },
    {
     "data": {
      "application/vnd.jupyter.widget-view+json": {
       "model_id": "45d96e3e521b4bd3a60172c81c4ad690",
       "version_major": 2,
       "version_minor": 0
      },
      "text/plain": [
       "  0%|          | 0/10000 [00:00<?, ?it/s]"
      ]
     },
     "metadata": {},
     "output_type": "display_data"
    }
   ],
   "source": [
    "# Calcul du temps d'inférence et de l'emission CO2\n",
    "\n",
    "tracker = OfflineEmissionsTracker(country_iso_code=country)\n",
    "tracker.start()\n",
    "list_duration_large_pruned = get_inference_time(model=model_large_pruned, nb_iterations=10_000)\n",
    "emissions_large_inference_pruned = tracker.stop()"
   ]
  },
  {
   "cell_type": "code",
   "execution_count": null,
   "id": "fbd968e1",
   "metadata": {},
   "outputs": [],
   "source": [
    "df_co2_inference.loc[\"model_large_pruned\", \"Métrique\"] = emissions_large_inference_pruned\n",
    "df_co2_inference.loc[\"model_large_pruned\", \"Ratio\"] = emissions_large_inference_pruned/emissions_large_inference\n",
    "\n",
    "dict_inference_time[\"model_large_pruned\"] = list_duration_large_pruned"
   ]
  },
  {
   "cell_type": "code",
   "execution_count": null,
   "id": "d0b475c3",
   "metadata": {},
   "outputs": [],
   "source": [
    "# Calcul du Flops\n",
    "flops_large_pruned = get_model_flops(model=model_large_pruned)\n",
    "\n",
    "df_flops.loc[\"model_large_pruned\", \"Métrique\"] = flops_large_pruned\n",
    "df_flops.loc[\"model_large_pruned\", \"Ratio\"] = flops_large_pruned/flops_large"
   ]
  },
  {
   "cell_type": "code",
   "execution_count": null,
   "id": "3cc391a5",
   "metadata": {},
   "outputs": [],
   "source": [
    "# Calcul de la taille du modèle\n",
    "size_large_pruned = get_model_size(model=model_large_pruned)\n",
    "df_size.loc[\"model_large_pruned\", \"Métrique\"] = size_large_pruned\n",
    "df_size.loc[\"model_large_pruned\", \"Ratio\"] = size_large_pruned/size_large"
   ]
  },
  {
   "cell_type": "markdown",
   "id": "bf48e7a2",
   "metadata": {},
   "source": [
    "**Evaluation de l'effet de l'élagage**\n",
    "\n",
    "Pour constater l'effet de l'élagage, nous allons comparer les métriques du modèle avant et après élagage.\n",
    "\n",
    "Utilisons les fonctions `plot_bars` et `plot_histogram` pour visualiser les diffrentes métriques.\n",
    "\n",
    "* Commenter l'impact de l'élagage sur les différentes métriques"
   ]
  },
  {
   "cell_type": "code",
   "execution_count": null,
   "id": "fa74b238",
   "metadata": {},
   "outputs": [],
   "source": [
    "plot_bars(df_accuracy, \"Accuracy\")"
   ]
  },
  {
   "cell_type": "code",
   "execution_count": null,
   "id": "88298da6",
   "metadata": {},
   "outputs": [],
   "source": [
    "plot_bars(df_co2_inference, \"Emission CO2 - Inference\")"
   ]
  },
  {
   "cell_type": "code",
   "execution_count": null,
   "id": "81d9eb4a",
   "metadata": {
    "scrolled": false
   },
   "outputs": [],
   "source": [
    "plot_bars(df_flops, \"Nombre de flops\")"
   ]
  },
  {
   "cell_type": "code",
   "execution_count": null,
   "id": "75d21631",
   "metadata": {},
   "outputs": [],
   "source": [
    "plot_bars(df_size, \"Taille du modèle (MB)\")"
   ]
  },
  {
   "cell_type": "code",
   "execution_count": null,
   "id": "0eb3f22a",
   "metadata": {},
   "outputs": [],
   "source": [
    "plot_histogram(dict_inference_time, \"Temps d'inférence (s)\")"
   ]
  },
  {
   "cell_type": "markdown",
   "id": "dcee766e",
   "metadata": {},
   "source": [
    "> L'élagage structuré s'avère bénéfique pour toutes nos métriques d'intérêts. Il conserve l'accuracy tout en rendant notre modèle plus léger, plus rapide et donc moins polluant.\n",
    "\n",
    "> Néanmoins il convient de noter qu'en règle générale, on notera très souvent une perte de points d'accuracy. La conservation de l'accuracy dans notre cas peut être due au fait qu'on a une tâche de classification relativement facile."
   ]
  },
  {
   "cell_type": "markdown",
   "id": "fc8e674d",
   "metadata": {},
   "source": [
    "---\n",
    "**Exercice 3-bis** (optionnel)\n",
    "\n",
    "* Essayer l'élagage non structuré en s'inspirant des sections `Pruning a Module` et `Remove pruning re-parametrization` [de ce tutoriel](https://pytorch.org/tutorials/intermediate/pruning_tutorial.html) ainsi que l'exemple présenté sur [cette page](https://pytorch.org/docs/stable/generated/torch.nn.utils.prune.global_unstructured.html#torch.nn.utils.prune.global_unstructured) et comparer son effet par rapport à l'élagage structuré.\n",
    "\n",
    "* Retenter l'expérience de l'élagage (structuré et/ou non structuré) avec différents niveaux (pourcentage d'élagage) afin de voir l'impact de la quantité d'élagage sur les différentes métriques."
   ]
  },
  {
   "cell_type": "code",
   "execution_count": null,
   "id": "95749e45",
   "metadata": {
    "scrolled": true
   },
   "outputs": [],
   "source": [
    "# Elagage non structuré \n",
    "model_large_pruned_unstructured = copy.deepcopy(model_large)\n",
    "\n",
    "parameters_to_prune = [\n",
    "    (param, \"weight\") for name, param in model_large_pruned_unstructured.named_modules()\n",
    "    if type(param) == torch.nn.Conv2d\n",
    "]\n",
    "torch.nn.utils.prune.global_unstructured(parameters_to_prune,\n",
    "                                         pruning_method=torch.nn.utils.prune.L1Unstructured,\n",
    "                                         amount=0.5)\n",
    "for param, name in parameters_to_prune:\n",
    "    torch.nn.utils.prune.remove(param, name)"
   ]
  },
  {
   "cell_type": "code",
   "execution_count": null,
   "id": "f0c2d01e",
   "metadata": {},
   "outputs": [],
   "source": [
    "# Calcul de l'accuracy\n",
    "accuracy_large_pruned_unstructured = evaluate(model=model_large_pruned_unstructured, test_loader=test_loader)\n",
    "df_accuracy.loc[\"model_large_pruned_unstructured\", \"Métrique\"] = accuracy_large_pruned_unstructured\n",
    "df_accuracy.loc[\"model_large_pruned_unstructured\", \"Ratio\"] = accuracy_large_pruned_unstructured/accuracy_large"
   ]
  },
  {
   "cell_type": "code",
   "execution_count": null,
   "id": "b274cc67",
   "metadata": {},
   "outputs": [],
   "source": [
    "# Calcul du temps d'inférence et de l'emission CO2\n",
    "\n",
    "tracker = OfflineEmissionsTracker(country_iso_code=country)\n",
    "tracker.start()\n",
    "list_duration_large_pruned_unstructured = get_inference_time(model=model_large_pruned_unstructured,\n",
    "                                                             nb_iterations=10_000)\n",
    "emissions_large_inference_pruned_unstructured = tracker.stop()"
   ]
  },
  {
   "cell_type": "code",
   "execution_count": null,
   "id": "3a66c7f3",
   "metadata": {},
   "outputs": [],
   "source": [
    "df_co2_inference.loc[\"model_large_pruned_unstructured\", \"Métrique\"] = emissions_large_inference_pruned_unstructured\n",
    "df_co2_inference.loc[\"model_large_pruned_unstructured\", \"Ratio\"] = emissions_large_inference_pruned_unstructured/emissions_large_inference\n",
    "\n",
    "dict_inference_time[\"model_large_pruned_unstructured\"] = list_duration_large_pruned_unstructured"
   ]
  },
  {
   "cell_type": "code",
   "execution_count": null,
   "id": "ecf546df",
   "metadata": {},
   "outputs": [],
   "source": [
    "# Calcul du Flops\n",
    "flops_large_pruned_unstructured = get_model_flops(model=model_large_pruned_unstructured)\n",
    "df_flops.loc[\"model_large_pruned_unstructured\", \"Métrique\"] = flops_large_pruned_unstructured\n",
    "df_flops.loc[\"model_large_pruned_unstructured\", \"Ratio\"] = flops_large_pruned_unstructured/flops_large"
   ]
  },
  {
   "cell_type": "code",
   "execution_count": null,
   "id": "c048552f",
   "metadata": {},
   "outputs": [],
   "source": [
    "# Calcul de la taille du modèle\n",
    "size_large_pruned_unstructured = get_model_size(model=model_large_pruned_unstructured)\n",
    "df_size.loc[\"model_large_pruned_unstructured\", \"Métrique\"] = size_large_pruned_unstructured\n",
    "df_size.loc[\"model_large_pruned_unstructured\", \"Ratio\"] = size_large_pruned_unstructured/size_large"
   ]
  },
  {
   "cell_type": "code",
   "execution_count": null,
   "id": "95f4d7b3",
   "metadata": {},
   "outputs": [],
   "source": [
    "plot_bars(df_accuracy, \"Accuracy\")"
   ]
  },
  {
   "cell_type": "code",
   "execution_count": null,
   "id": "2bf78b25",
   "metadata": {},
   "outputs": [],
   "source": [
    "plot_bars(df_co2_inference, \"Emission CO2 - Inference\")"
   ]
  },
  {
   "cell_type": "code",
   "execution_count": null,
   "id": "109557e0",
   "metadata": {},
   "outputs": [],
   "source": [
    "plot_bars(df_flops, \"Nombre de flops\")"
   ]
  },
  {
   "cell_type": "code",
   "execution_count": null,
   "id": "aa8d3170",
   "metadata": {},
   "outputs": [],
   "source": [
    "plot_bars(df_size, \"Taille du modèle (MB)\")"
   ]
  },
  {
   "cell_type": "code",
   "execution_count": null,
   "id": "3a7c32b5",
   "metadata": {},
   "outputs": [],
   "source": [
    "plot_histogram(dict_inference_time, \"Temps d'inférence (s)\")"
   ]
  },
  {
   "cell_type": "markdown",
   "id": "159a79c8",
   "metadata": {},
   "source": [
    "# Technique d'optimisation n° 2 : la quantisation\n",
    "\n",
    "La quantisation est une méthode permettant de réduire l'empreinte mémoire ainsi que le temps d'inférence d'un modèle en réduisant la précision numérique de ses poids.\n",
    "\n",
    "En effet, les poids des modèles sont stockées en nombres décimaux avec une précision `FP32`. En convertissant ces poids en une précisant entière `INT8`, on réduit significativement l'espace mémoire pris par ce modèle et aussi le temps d'inférence car les opérations avec des entiers sont généralement plus rapides. Néanmoins les opérations en INT8 sont moins précises et donc peuvent entrainer une dégradation de l'accuracy du modèle.\n",
    "\n",
    "> **NB** : la quantisation nécessite de convertir les données en entrée du modèle (qui sont généralement en FP32) en INT8, puis de reconvertir la sortie du modèle (qui est en INT8) en FP32. Cette opération de convertion des entrées et sorties à un coût et peu parfois (dans le cas de petits modèles) rendre la quantisation inefficiente, i.e. le modèle quantisé peut être plus lent que le modèle initial.\n"
   ]
  },
  {
   "cell_type": "markdown",
   "id": "292c7d33",
   "metadata": {},
   "source": [
    "---\n",
    "**Exercice 4**\n",
    "\n",
    "* A l'aide de la fonction `quantize_model`, appliquer la quantisation au modèle de base (model_large)\n",
    "* Calculer les différentes métriques comme précédemment afin d'évaluer l'impact de la quantization. Commenter l'impact de la quantization.\n",
    "- Pourquoi les flops baissent drastiquement"
   ]
  },
  {
   "cell_type": "code",
   "execution_count": null,
   "id": "69286060",
   "metadata": {
    "scrolled": false
   },
   "outputs": [],
   "source": [
    "# quantisation\n",
    "model_large_quantized = quantize_model(model=model_large, data_loader=train_loader)"
   ]
  },
  {
   "cell_type": "code",
   "execution_count": null,
   "id": "18c8da87",
   "metadata": {},
   "outputs": [],
   "source": [
    "# Calcul de l'accuracy\n",
    "accuracy_large_quantized = evaluate(model=model_large_quantized, test_loader=test_loader)\n",
    "df_accuracy.loc[\"model_large_quantized\", \"Métrique\"] = accuracy_large_quantized\n",
    "df_accuracy.loc[\"model_large_quantized\", \"Ratio\"] = accuracy_large_quantized/accuracy_large"
   ]
  },
  {
   "cell_type": "markdown",
   "id": "5ffa5ebd",
   "metadata": {},
   "source": [
    "> Le temps d'inférence sera stocké dans la variable list_duration_large_quantized, et l'emission CO2 sera stockée dans la variable emissions_large_inference_quantized"
   ]
  },
  {
   "cell_type": "code",
   "execution_count": null,
   "id": "74380663",
   "metadata": {},
   "outputs": [],
   "source": [
    "# Calcul du temps d'inférence et de l'emission CO2\n",
    "\n",
    "tracker = OfflineEmissionsTracker(country_iso_code=country)\n",
    "tracker.start()\n",
    "list_duration_large_quantized = get_inference_time(model=model_large_quantized, nb_iterations=10_000)\n",
    "emissions_large_inference_quantized = tracker.stop()"
   ]
  },
  {
   "cell_type": "code",
   "execution_count": null,
   "id": "ecd29ece",
   "metadata": {},
   "outputs": [],
   "source": [
    "df_co2_inference.loc[\"model_large_quantized\", \"Métrique\"] = emissions_large_inference_quantized\n",
    "df_co2_inference.loc[\"model_large_quantized\", \"Ratio\"] = emissions_large_inference_quantized/emissions_large_inference\n",
    "dict_inference_time[\"model_large_quantized\"] = list_duration_large_quantized"
   ]
  },
  {
   "cell_type": "code",
   "execution_count": null,
   "id": "304e3507",
   "metadata": {},
   "outputs": [],
   "source": [
    "# Flops\n",
    "flops_large_quantized = get_model_flops(model=model_large_quantized)\n",
    "df_flops.loc[\"model_large_quantized\", \"Métrique\"] = flops_large_quantized\n",
    "df_flops.loc[\"model_large_quantized\", \"Ratio\"] = flops_large_quantized/flops_large"
   ]
  },
  {
   "cell_type": "code",
   "execution_count": null,
   "id": "d13abf5f",
   "metadata": {},
   "outputs": [],
   "source": [
    "# Taille du modèle\n",
    "size_large_quantized = get_model_size(model=model_large_quantized)\n",
    "df_size.loc[\"model_large_quantized\", \"Métrique\"] = size_large_quantized\n",
    "df_size.loc[\"model_large_quantized\", \"Ratio\"] = size_large_quantized/size_large"
   ]
  },
  {
   "cell_type": "code",
   "execution_count": null,
   "id": "b9f86ce9",
   "metadata": {},
   "outputs": [],
   "source": [
    "plot_bars(df_accuracy, \"Accuracy\")"
   ]
  },
  {
   "cell_type": "code",
   "execution_count": null,
   "id": "889ea1c5",
   "metadata": {},
   "outputs": [],
   "source": [
    "plot_bars(df_co2_inference, \"Emission CO2 - Inference\")"
   ]
  },
  {
   "cell_type": "code",
   "execution_count": null,
   "id": "97d46f75",
   "metadata": {},
   "outputs": [],
   "source": [
    "plot_bars(df_flops, \"Nombre de flops\")"
   ]
  },
  {
   "cell_type": "code",
   "execution_count": null,
   "id": "75ec6b4c",
   "metadata": {},
   "outputs": [],
   "source": [
    "plot_bars(df_size, \"Taille du modèle (MB)\")"
   ]
  },
  {
   "cell_type": "code",
   "execution_count": null,
   "id": "af1424bf",
   "metadata": {},
   "outputs": [],
   "source": [
    "plot_histogram(dict_inference_time, \"Temps d'inférence (s)\")"
   ]
  },
  {
   "cell_type": "markdown",
   "id": "3c81c9c7",
   "metadata": {},
   "source": [
    "* Est-ce toutes les métriques évoluent dans le sens attendu ? Sinon qu'est-ce qui pourrait expliquer les résultats observés ?\n",
    "\n",
    "> On remarque que le nombre de FLOPS du modèle quantisé est `très faible`. Cette baisse drastique peut induire en erreur car les poids du modèle ayant été transformés en `INT8`, la métrique de \"floating points\" (opération sur les décimaux) n'est pas pertinente dans ce cas.\n",
    "\n",
    "> On remarque également que le temps d'inférence ainsi que l'émission CO2 ne se sont pas améliorés, et semblent même se détériorer. Ce constat contre-intuitif pourrait s'expliquer par le coût computationnel introduit par la conversion (FLOAT32 --> INT8 --> FLOAT32) des entrées et sorties de notre modèle quantisé. Dans le cas des petits modèles (comme le nôtre), cette conversion peut contrecarrer le gain de performance issu de la quantisation."
   ]
  },
  {
   "cell_type": "markdown",
   "id": "6ec29d67",
   "metadata": {},
   "source": [
    "# Technique d'optimisation n° 3 : la distillation\n",
    "\n",
    "La dernière technique d'optimisation que nous allons aborder est la distillation. L'idée générale de la distillation est de partir d'un \"grand modèle\" appelé `Teacher` qu'on a déjà entrainé et essayer de distiller la connaissance apprise par ce grand modèle dans un modèle de taille plus réduite appelé `Student`. Ainsi on bénéficie des performances (accuracy par exemple) proches de celles du modèle Teacher tout en améliorant significativement les performances computationnelles avec le modèle Student.\n",
    "\n",
    "Il existe plusieurs manières de faire de la distillation. Dans ce TP nous allons expérimenter deux approches."
   ]
  },
  {
   "cell_type": "markdown",
   "id": "15794961",
   "metadata": {},
   "source": [
    "### Distillation simple\n",
    "\n",
    "Avec la distillation simple, l'idée est d'utiliser le modèle Teacher pour générer des labels sur les données d'entrainement. Ensuite on utilisera ces labels en remplacement des \"vrais labels\" pour entrainer le model Student."
   ]
  },
  {
   "cell_type": "markdown",
   "id": "aafde4b4",
   "metadata": {},
   "source": [
    "---\n",
    "**Exercice 5**\n",
    "\n",
    "Ecrire une fonction `get_prediction_batches` qui prend en entrée :\n",
    "\n",
    "* un modèle : dans notre cas ce sera le modèle teacher \n",
    "* un jeu de données : dans notre cas ce sera le jeu de donnée d'entrainement\n",
    "\n",
    "et qui renvoie une liste de tuples. Chaque tuple ($x$, $y'$) de la liste contient un batch $x$ d'images provenant du jeu d'entrée et un batch $y'$ de labels prédit par le modèle pour les images $x$.\n",
    "\n",
    "> **NB** : les prédictions $y'$ renvoyées ici doivent être des les prédictions du modèle converties en labels entiers.\n",
    "\n",
    "> **Tips** : on pourra s'inspirer de la fonction `evaluate` qui montre comment on parcourt un jeu de données pour faire des prédictions avec un modèle."
   ]
  },
  {
   "cell_type": "code",
   "execution_count": null,
   "id": "b28be6d0",
   "metadata": {},
   "outputs": [],
   "source": [
    "def get_prediction_batches(model, data_loader):\n",
    "    list_images_labels = []\n",
    "    \n",
    "    model.eval()\n",
    "    with torch.no_grad():\n",
    "        for images, labels in tqdm(data_loader):\n",
    "            outputs = model(images)\n",
    "            _, predicted = torch.max(outputs.data, 1)\n",
    "            list_images_labels.append((images, predicted))\n",
    "    return list_images_labels"
   ]
  },
  {
   "cell_type": "markdown",
   "id": "f5f3be1b",
   "metadata": {},
   "source": [
    "Utilisons la fonction `get_prediction_batches` pour obtenir les données prédites, avec comme paramètres de cette fonction le modèle baseline `model_large` et les données d'entrainement `train_loader`. Nous Convertirons la liste de données obtenue en objet `DataLoader` à l'aide de la fonction `convert_list_batches_to_dataloader`."
   ]
  },
  {
   "cell_type": "code",
   "execution_count": null,
   "id": "497993eb",
   "metadata": {},
   "outputs": [],
   "source": [
    "list_batches = get_prediction_batches(model_large, train_loader)\n",
    "train_loader_distil = convert_list_batches_to_dataloader(list_batches)"
   ]
  },
  {
   "cell_type": "markdown",
   "id": "a9ff98ab",
   "metadata": {},
   "source": [
    "---\n",
    "**Exercice 7** :\n",
    "\n",
    "Créer un petit modèle `model_student_simple` et l'optimizer (objet chargé de mettre à jour les poids du modèle pendant l'entrainement) correspondant `optimizer_student_simple`. Pour cela on se servira de fonction `create_model_and_optimizer`. \n",
    "\n",
    "> Tips : vous pouvez par exemple créer un modèle avec une seule couche de convolution de taille 12."
   ]
  },
  {
   "cell_type": "code",
   "execution_count": null,
   "id": "94193214",
   "metadata": {},
   "outputs": [],
   "source": [
    "model_student_simple, optimizer_student_simple = create_model_and_optimizer(\n",
    "    conv_layers_specs=[12],\n",
    "    linear_layers_specs=[]\n",
    ")"
   ]
  },
  {
   "cell_type": "code",
   "execution_count": null,
   "id": "198007b2",
   "metadata": {},
   "outputs": [],
   "source": [
    "print(model_student_simple)"
   ]
  },
  {
   "cell_type": "markdown",
   "id": "7c150440",
   "metadata": {},
   "source": [
    "---\n",
    "**Exercice 8** :\n",
    "\n",
    "* Procéder à un entrainement du modèle `model_student_simple` sur les données `train_loader_distil` pendant 10 epochs (nombre d'itérations sur l'ensemble de données). La fonction `train` sera utilisée à cet effet\n",
    "* Evaluer ce modèle avec les différentes métriques comme vu précédemment. Visualisez et commentez les effets de la distillation."
   ]
  },
  {
   "cell_type": "code",
   "execution_count": null,
   "id": "518fc630",
   "metadata": {
    "scrolled": true
   },
   "outputs": [],
   "source": [
    "%%time\n",
    "\n",
    "# Entrainement\n",
    "model_student_simple = train(\n",
    "    model=model_student_simple,\n",
    "    optimizer=optimizer_student_simple,\n",
    "    train_loader=train_loader_distil,\n",
    "    epochs=10\n",
    ")"
   ]
  },
  {
   "cell_type": "code",
   "execution_count": null,
   "id": "275dfad9",
   "metadata": {},
   "outputs": [],
   "source": [
    "# Calcul de l'accuracy\n",
    "accuracy_student_simple = evaluate(model=model_student_simple, test_loader=test_loader)\n",
    "df_accuracy.loc[\"model_student_simple\", \"Métrique\"] = accuracy_student_simple\n",
    "df_accuracy.loc[\"model_student_simple\", \"Ratio\"] = accuracy_student_simple/accuracy_large"
   ]
  },
  {
   "cell_type": "code",
   "execution_count": null,
   "id": "32224bd0",
   "metadata": {},
   "outputs": [],
   "source": [
    "# Calcul du Flops\n",
    "flops_sudent_simple = get_model_flops(model=model_student_simple)\n",
    "df_flops.loc[\"model_student_simple\", \"Métrique\"] = flops_sudent_simple\n",
    "df_flops.loc[\"model_student_simple\", \"Ratio\"] = flops_sudent_simple/flops_large"
   ]
  },
  {
   "cell_type": "code",
   "execution_count": null,
   "id": "2d9c8489",
   "metadata": {},
   "outputs": [],
   "source": [
    "# Calcul du temps d'inférence et de l'émission CO2\n",
    "# les temps d'inférence seron stockés dans la variable \"list_duration_student_simple\"\n",
    "# L'émission CO2 sera stockée dans la variable \"emissions_student_simple_inference\"\n",
    "\n",
    "tracker = OfflineEmissionsTracker(country_iso_code=country)\n",
    "tracker.start()\n",
    "list_duration_student_simple = get_inference_time(model=model_student_simple, nb_iterations=10_000)\n",
    "emissions_student_simple_inference = tracker.stop()"
   ]
  },
  {
   "cell_type": "code",
   "execution_count": null,
   "id": "7138df3c",
   "metadata": {},
   "outputs": [],
   "source": [
    "df_co2_inference.loc[\"model_student_simple\", \"Métrique\"] = emissions_student_simple_inference\n",
    "df_co2_inference.loc[\"model_student_simple\", \"Ratio\"] = emissions_student_simple_inference/emissions_large_inference\n",
    "dict_inference_time[\"model_student_simple\"] = list_duration_student_simple"
   ]
  },
  {
   "cell_type": "code",
   "execution_count": null,
   "id": "52e05505",
   "metadata": {},
   "outputs": [],
   "source": [
    "# Calcul de la taille du modèle\n",
    "size_student_simple = get_model_size(model=model_student_simple)\n",
    "df_size.loc[\"model_student_simple\", \"Métrique\"] = size_student_simple\n",
    "df_size.loc[\"model_student_simple\", \"Ratio\"] = size_student_simple/size_large"
   ]
  },
  {
   "cell_type": "code",
   "execution_count": null,
   "id": "3afab520",
   "metadata": {},
   "outputs": [],
   "source": [
    "plot_bars(df_accuracy, \"Accuracy\")"
   ]
  },
  {
   "cell_type": "code",
   "execution_count": null,
   "id": "9a55cd30",
   "metadata": {},
   "outputs": [],
   "source": [
    "plot_bars(df_co2_inference, \"Emission CO2 - Inference\")"
   ]
  },
  {
   "cell_type": "code",
   "execution_count": null,
   "id": "2ef1bb22",
   "metadata": {},
   "outputs": [],
   "source": [
    "plot_bars(df_flops, \"Nombre de flops\")"
   ]
  },
  {
   "cell_type": "code",
   "execution_count": null,
   "id": "1e5c3704",
   "metadata": {},
   "outputs": [],
   "source": [
    "plot_bars(df_size, \"Taille du modèle (MB)\")"
   ]
  },
  {
   "cell_type": "code",
   "execution_count": null,
   "id": "189bcb18",
   "metadata": {},
   "outputs": [],
   "source": [
    "plot_histogram(dict_inference_time, \"Temps d'inférence (s)\")"
   ]
  },
  {
   "cell_type": "markdown",
   "id": "29377dbf",
   "metadata": {},
   "source": [
    "### Distillation hybride\n",
    "\n",
    "Dans le cas de la distillation hybride, on utilise les vrais labels $y$ ainsi que les labels prédits par le modèle Teacher $y'$ pour entrainer le modèle Student. Ainsi la fonction objectif sera une combinaison de la fonction objectif calculée à partir de $y$ et celle calculée à partir de $y'$ \n",
    "\n",
    "> $loss = \\alpha * loss_y + (1 - \\alpha) * loss_{y'}$\n",
    "\n",
    "$\\alpha$ est un paramètre entre 0 et 1, de compromis entre le poids qu'on donne à l'apprentissage avec les vrais labels et l'apprentissage avec les labels générés par le Teacher.\n",
    "\n",
    "Dans cette approche, le modèle Student apprend de deux sources de connaissance : celle provenant directement des données d'entrainement et celle provenant du modèle Teacher."
   ]
  },
  {
   "cell_type": "markdown",
   "id": "5905b431",
   "metadata": {},
   "source": [
    "---\n",
    "**Exercice 9**\n",
    "\n",
    "Créer un petit modèle qui sera utilisé comme Student pour la distillation hybride. Ce modèle devra avoir les mêmes spécifications que le modèle de l'exercice 7 pour qu'on puisse comparer les résultats."
   ]
  },
  {
   "cell_type": "code",
   "execution_count": null,
   "id": "e921ccd3",
   "metadata": {},
   "outputs": [],
   "source": [
    "model_student, optimizer_student = create_model_and_optimizer(\n",
    "    conv_layers_specs=[12],\n",
    "    linear_layers_specs=[]\n",
    ")"
   ]
  },
  {
   "cell_type": "code",
   "execution_count": null,
   "id": "16af83aa",
   "metadata": {},
   "outputs": [],
   "source": [
    "print(model_student)"
   ]
  },
  {
   "cell_type": "markdown",
   "id": "d3af0d9b",
   "metadata": {},
   "source": [
    "---\n",
    "**Exercice 10**\n",
    "\n",
    "Ecrire une fonction `get_prediction_batches_hybrid` qui prend en entrée :\n",
    "\n",
    "* un modèle : dans notre cas ce sera le modèle teacher \n",
    "* un jeu de données : dans notre cas ce sera le jeu de donnée d'entrainement\n",
    "\n",
    "et qui renvoie une liste de tuples. Chaque tuple ($x$, $y$, $y'$) de la liste contient un batch d'images $x$ provenant du jeu de données d'entrée, un batch $y$ contenant les vrais labels et un batch $y'$ de prédictions effectuées par le modèle Teacher pour les images $x$.\n",
    "\n",
    "> **NB** : les prédictions $y'$ renvoyées ici doivent être des prédictions brutes effectuées par le modèle Teacher, i.e. sans qu'elles soient converties en labels entiers.\n",
    "\n",
    "> **Tips** : se référer à l'exercice 5 pour inspiration"
   ]
  },
  {
   "cell_type": "code",
   "execution_count": null,
   "id": "e4b1691d",
   "metadata": {},
   "outputs": [],
   "source": [
    "def get_prediction_batches_hybrid(model, data_loader):\n",
    "    list_images_labels_hybrid = []\n",
    "    \n",
    "    model.eval()\n",
    "    with torch.no_grad():\n",
    "        for images, labels in tqdm(data_loader):\n",
    "            outputs = model(images)\n",
    "            list_images_labels_hybrid.append((images, labels, outputs))\n",
    "    \n",
    "    return list_images_labels_hybrid"
   ]
  },
  {
   "cell_type": "markdown",
   "id": "f14dbd16",
   "metadata": {},
   "source": [
    "Utilisons la fonction `get_prediction_batches_hybrid` pour obtenir les données prédites, avec comme paramètres de  cette fonction le modèle baseline `model_large` et les données d'entrainement `train_loader`. Ensuite on convertira la liste de données obtenue en objet `DataLoader` à l'aide de la fonction `convert_list_batches_to_dataloader`."
   ]
  },
  {
   "cell_type": "code",
   "execution_count": null,
   "id": "128cff17",
   "metadata": {},
   "outputs": [],
   "source": [
    "list_batches = get_prediction_batches_hybrid(model_large, train_loader)\n",
    "train_loader_distil_hybrid = convert_list_batches_to_dataloader(list_batches)"
   ]
  },
  {
   "cell_type": "markdown",
   "id": "c4c9f092",
   "metadata": {},
   "source": [
    "---\n",
    "**Exercice 11**\n",
    "\n",
    "Compléter la ligne 13 de la fonction `distillation_crossentropy_loss` ci-dessous pour calculer la fonction objective totale ci-dessous en se servant de l'équation $loss = \\alpha * loss_y + (1 - \\alpha) * loss_{y'}$"
   ]
  },
  {
   "cell_type": "code",
   "execution_count": null,
   "id": "ac5eab78",
   "metadata": {},
   "outputs": [],
   "source": [
    "def distillation_crossentropy_loss(preds, soft_targets, hard_targets, alpha):\n",
    "    temperature = 3.0\n",
    "    scaled_pred = preds / temperature\n",
    "    soft_targets = torch.nn.functional.softmax(soft_targets, dim=1)\n",
    "    soft_crossentropy = torch.mean(\n",
    "        torch.sum(\n",
    "            -soft_targets * torch.nn.functional.log_softmax(scaled_pred, dim=1),\n",
    "            dim=1\n",
    "        )\n",
    "    )\n",
    "    loss_teacher = (temperature**2) * soft_crossentropy\n",
    "    loss_student = torch.nn.functional.cross_entropy(preds, hard_targets)\n",
    "    loss = alpha*loss_student + (1.0 - alpha)*loss_teacher \n",
    "    return loss"
   ]
  },
  {
   "cell_type": "markdown",
   "id": "24a26c4a",
   "metadata": {},
   "source": [
    "La fonction suivante est une fonction utilitaire qui sera utilisée pour faire de la distillation hybride :"
   ]
  },
  {
   "cell_type": "code",
   "execution_count": null,
   "id": "364e1e5d",
   "metadata": {},
   "outputs": [],
   "source": [
    "def train_distillation(model, optimizer, train_loader, epochs, alpha):\n",
    "    \n",
    "    for epoch in tqdm(range(epochs)):\n",
    "\n",
    "        running_loss = 0.0\n",
    "        for i, data in enumerate(train_loader):\n",
    "            inputs, labels, soft_targets = data\n",
    "\n",
    "            optimizer.zero_grad()\n",
    "            preds = model(inputs)\n",
    "            \n",
    "            loss = distillation_crossentropy_loss(preds, soft_targets, labels, alpha)\n",
    "            loss.backward()\n",
    "            optimizer.step()\n",
    "\n",
    "            n_iter = 200\n",
    "            running_loss += loss.item()\n",
    "            if (i+1) % n_iter == 0:\n",
    "                print(f'Epoch : {epoch + 1}/{epochs} -------- Iteration : {i + 1:5d} -------- loss: {running_loss / n_iter:.3f}')\n",
    "                running_loss = 0.0\n",
    "\n",
    "    print('Finished Training')\n",
    "    return model"
   ]
  },
  {
   "cell_type": "markdown",
   "id": "0113668e",
   "metadata": {},
   "source": [
    "---\n",
    "**Exercice 12**\n",
    "\n",
    "* Choisir un paramètre $\\alpha$ (ex. 0.75) et entrainer le modèle `model_student` pour 10 epochs à l'aide de la fonction `train_distillation`\n",
    "* Calculer les différentes métriques pour ce nouveau modèle et puis commenter en comparaison avec les autres approches."
   ]
  },
  {
   "cell_type": "code",
   "execution_count": null,
   "id": "3ce56aba",
   "metadata": {
    "scrolled": true
   },
   "outputs": [],
   "source": [
    "%%time\n",
    "\n",
    "model_student = train_distillation(\n",
    "    model=model_student,\n",
    "    optimizer=optimizer_student,\n",
    "    train_loader=train_loader_distil_hybrid,\n",
    "    epochs=10,\n",
    "    alpha=0.75\n",
    ")"
   ]
  },
  {
   "cell_type": "code",
   "execution_count": null,
   "id": "9d00b5cd",
   "metadata": {},
   "outputs": [],
   "source": [
    "accuracy_student = evaluate(model=model_student, test_loader=test_loader)\n",
    "df_accuracy.loc[\"model_student\", \"Métrique\"] = accuracy_student\n",
    "df_accuracy.loc[\"model_student\", \"Ratio\"] = accuracy_student/accuracy_large"
   ]
  },
  {
   "cell_type": "code",
   "execution_count": null,
   "id": "a6da97f8",
   "metadata": {},
   "outputs": [],
   "source": [
    "flops_sudent = get_model_flops(model=model_student)\n",
    "df_flops.loc[\"model_student\", \"Métrique\"] = flops_sudent\n",
    "df_flops.loc[\"model_student\", \"Ratio\"] = flops_sudent/flops_large"
   ]
  },
  {
   "cell_type": "markdown",
   "id": "3c25210e",
   "metadata": {},
   "source": [
    "> Le temps d'inférence sera stocké dans la variable `list_duration_student`, et l'emission CO2 sera stockée dans la variable `emissions_student_inference`"
   ]
  },
  {
   "cell_type": "code",
   "execution_count": null,
   "id": "d953e7f2",
   "metadata": {},
   "outputs": [],
   "source": [
    "# Calcul du temps d'inférence et de l'emission CO2\n",
    "\n",
    "tracker = OfflineEmissionsTracker(country_iso_code=country)\n",
    "tracker.start()\n",
    "list_duration_student = get_inference_time(model=model_student, nb_iterations=10_000)\n",
    "emissions_student_inference = tracker.stop()"
   ]
  },
  {
   "cell_type": "code",
   "execution_count": null,
   "id": "bd94e4fb",
   "metadata": {},
   "outputs": [],
   "source": [
    "df_co2_inference.loc[\"model_student\", \"Métrique\"] = emissions_student_inference\n",
    "df_co2_inference.loc[\"model_student\", \"Ratio\"] = emissions_student_inference/emissions_large_inference\n",
    "dict_inference_time[\"model_student\"] = list_duration_student"
   ]
  },
  {
   "cell_type": "code",
   "execution_count": null,
   "id": "7251d1c6",
   "metadata": {},
   "outputs": [],
   "source": [
    "size_student = get_model_size(model=model_student)\n",
    "df_size.loc[\"model_student\", \"Métrique\"] = size_student\n",
    "df_size.loc[\"model_student\", \"Ratio\"] = size_student/size_large"
   ]
  },
  {
   "cell_type": "code",
   "execution_count": null,
   "id": "61abce78",
   "metadata": {},
   "outputs": [],
   "source": [
    "plot_bars(df_accuracy, \"Accuracy\")"
   ]
  },
  {
   "cell_type": "code",
   "execution_count": null,
   "id": "d5dde15e",
   "metadata": {},
   "outputs": [],
   "source": [
    "plot_bars(df_co2_inference, \"Emission CO2 - Inference\")"
   ]
  },
  {
   "cell_type": "code",
   "execution_count": null,
   "id": "4301340c",
   "metadata": {},
   "outputs": [],
   "source": [
    "plot_bars(df_flops, \"Nombre de flops\")"
   ]
  },
  {
   "cell_type": "code",
   "execution_count": null,
   "id": "a98c427f",
   "metadata": {},
   "outputs": [],
   "source": [
    "plot_bars(df_size, \"Taille du modèle (MB)\")"
   ]
  },
  {
   "cell_type": "code",
   "execution_count": null,
   "id": "53bbd145",
   "metadata": {},
   "outputs": [],
   "source": [
    "plot_histogram(dict_inference_time, \"Temps d'inférence (s)\")"
   ]
  },
  {
   "cell_type": "markdown",
   "id": "2fed2231",
   "metadata": {},
   "source": [
    "* Quel est l'impact de la distillation hybride par rapport à la distillation simple ?\n",
    "\n",
    "> Comme on s'y attend, les performances computationnelles des deux modèles sont similaires : flops, temps d'inférence, CO2, taille du modèle. Cela s'explique simplement par le fait que les deux modèles ont les mêmes spécifiations (nombre et taille des couches)\n",
    "\n",
    "> Néanmoins la distillation hybride qui expose le modèle Student à deux sources de connaissance (données d'entrainement et prédictions du Teacher) semble apporter un petit gain en accuracy."
   ]
  }
 ],
 "metadata": {
  "kernelspec": {
   "display_name": "Python 3 (ipykernel)",
   "language": "python",
   "name": "python3"
  },
  "language_info": {
   "codemirror_mode": {
    "name": "ipython",
    "version": 3
   },
   "file_extension": ".py",
   "mimetype": "text/x-python",
   "name": "python",
   "nbconvert_exporter": "python",
   "pygments_lexer": "ipython3",
   "version": "3.8.13"
  }
 },
 "nbformat": 4,
 "nbformat_minor": 5
}
