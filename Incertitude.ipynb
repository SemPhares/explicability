{
 "cells": [
  {
   "cell_type": "markdown",
   "id": "860af9b6-c64a-4e14-ba68-3337a59cd0f6",
   "metadata": {},
   "source": [
    "# Mesure de l'incertitude d'un modèle de régression\n",
    "---\n",
    "\n",
    "Dans ce TP, nous allons estimer des intervalles de prédiction à partir de la distribution de résidus estimés par différentes méthodes :\n",
    "\n",
    "- Directement à partir des données d'entraînement\n",
    "- Sur un jeu de calibration\n",
    "- Par validation croisée\n",
    "- En utilisant MAPIE\n",
    "\n",
    "Nous allons appliquer ces méthodes sur un jeu de données uni-dimensionnel généré à partir d'une fonction analytique et d'un bruit gaussien. Nous allons ainsi pouvoir déterminer la validité de nos intervalles de prédiction via deux métriques : \n",
    "\n",
    "- la couverture \"effective\", qui est le pourcentage de données de test dont les vraies valeurs sont inclues dans les intervalles de prédiction. Par exemple, pour un niveau de confiance cible de 90%, il faut que 90% de mes données de test soit comprises dans les barres d'erreur.\n",
    "- la largeur moyenne des intervalles de prédiction qui doit être la plus proche possible de la largeur \"théorique\" ayant servie à générer le bruit de données\n",
    "\n",
    "> **NB** : le type d'incertitude abordée dans ce TP est `l'incertitude résiduelle`, i.e. provenant des bruits dans nos données"
   ]
  },
  {
   "cell_type": "markdown",
   "id": "83f87060",
   "metadata": {},
   "source": [
    "# Import"
   ]
  },
  {
   "cell_type": "code",
   "execution_count": null,
   "id": "4b3d3627",
   "metadata": {},
   "outputs": [],
   "source": [
    "import warnings\n",
    "warnings.filterwarnings('ignore')\n",
    "import numpy as np\n",
    "import pandas as pd\n",
    "import matplotlib.pyplot as plt\n",
    "from sklearn.pipeline import Pipeline\n",
    "from sklearn.ensemble import RandomForestRegressor\n",
    "from sklearn.model_selection import train_test_split\n",
    "from sklearn.model_selection import KFold\n",
    "from mapie.regression import MapieRegressor\n",
    "import copy\n",
    "import sys\n",
    "sys.path.append(\"../src\")\n",
    "from plot_utils import plot_1d_data"
   ]
  },
  {
   "cell_type": "markdown",
   "id": "7e2541d5",
   "metadata": {},
   "source": [
    "> **NB** : Utiliser la graine aléatoire suivante parmi où cela est nécessaire pour assurer la réproducibilité des résultats"
   ]
  },
  {
   "cell_type": "code",
   "execution_count": null,
   "id": "574f522c",
   "metadata": {},
   "outputs": [],
   "source": [
    "RANDOM_SEED = 72"
   ]
  },
  {
   "cell_type": "markdown",
   "id": "69093a05-6ac0-4201-a39d-0a5287c19e8e",
   "metadata": {},
   "source": [
    "## 1. Construction du jeu de données et du modèle de base"
   ]
  },
  {
   "cell_type": "markdown",
   "id": "5444b743-737a-4031-b68d-ea1868ea94e8",
   "metadata": {},
   "source": [
    "### Construction d'un jeu de données artificiel"
   ]
  },
  {
   "cell_type": "markdown",
   "id": "11b52b68-5950-4aa7-bb19-75e20d9726ff",
   "metadata": {},
   "source": [
    "Commençons ici par construire un jeu de données artificiel. Nous utiliserons la fonction analytique $f(x) = x \\times sin(x)$ à laquelle nous ajoutons un bruit gaussien dont l'amplitude peut être définie en entrée. Les données d'entraînement et de test sont obtenues par une distribution uniforme entre deux valeurs minimale et maximale."
   ]
  },
  {
   "cell_type": "code",
   "execution_count": null,
   "id": "91edda17-25d4-4a2d-b281-708b86b7ee8a",
   "metadata": {},
   "outputs": [],
   "source": [
    "def x_sinx(x):\n",
    "    \"\"\"One-dimensional x*sin(x) function.\"\"\"\n",
    "    return x*np.sin(x)"
   ]
  },
  {
   "cell_type": "markdown",
   "id": "a8258d99",
   "metadata": {},
   "source": [
    "La fonction générera des données synthétiques d'entrainement et de test de la façon suivante :\n",
    "\n",
    "* générer un array `X_train` de `n_samples` nombres, dans l'intervalle `min_x` - `max_x` (voir la fonction `np.linspace`). Ensuite mélanger aléatoirement `X_train`\n",
    "* générer un autre array `X_test` de `n_samples*5` nombres dans l'intervalle `min_x` - `max_x`\n",
    "* générer des labels `y_train` et `y_test`, résultat de l'application de la fonction `x_sinx` sur `X_train` et `X_test`\n",
    "* créer une copie de `y_test` dans une nouvelle  variable `y_test_true` (qui représente les labels de test avant perturbation)\n",
    "* ajouter un bruit gaussien de variance `sigma` à `y_train` et à `y_test`\n",
    "* ajouter une dimension supplémentaire à `X_train` et `X_test` pour qu'ils soient de dimensions (`n_samples`, 1) et (`n_samples*5`, 1) respectivement\n",
    "* finalement retourner `X_train`, `y_train`, `X_test`, `y_test`, `y_test_true`"
   ]
  },
  {
   "cell_type": "code",
   "execution_count": null,
   "id": "c030a330-4af4-40ff-aac7-a9f888dc71d1",
   "metadata": {},
   "outputs": [],
   "source": [
    "def get_1d_data_with_constant_noise(f, min_x, max_x, n_samples, sigma):\n",
    "    \"\"\"\n",
    "    Generate 1D noisy data uniformely from the given function\n",
    "    and standard deviation for the noise.\n",
    "    \"\"\"\n",
    "    \n",
    "    np.random.seed(RANDOM_SEED)\n",
    "    # get train and test input data\n",
    "    X_train = np.linspace(min_x, max_x, n_samples)\n",
    "    np.random.shuffle(X_train)\n",
    "    X_test = np.linspace(min_x, max_x, n_samples*5)\n",
    "    # Get train and test labels\n",
    "    y_train = f(X_train)\n",
    "    y_test = f(X_test)\n",
    "    y_test_true = copy.deepcopy(y_test)\n",
    "    # Add Gaussian noise to the label\n",
    "    y_train += np.random.normal(0, sigma, len(y_train))\n",
    "    y_test += np.random.normal(0, sigma, len(y_test))\n",
    "    \n",
    "    # Ajout de dimension supplémentaire\n",
    "    X_train = X_train.reshape(-1, 1)\n",
    "    X_test = X_test.reshape(-1, 1)\n",
    "    \n",
    "    return X_train, y_train, X_test, y_test, y_test_true"
   ]
  },
  {
   "cell_type": "code",
   "execution_count": null,
   "id": "f63787ff-e7e6-43f5-ae3e-78ead261ce5e",
   "metadata": {},
   "outputs": [],
   "source": [
    "min_x, max_x, n_samples, sigma = -5, 5, 100, 0.5\n",
    "X_train, y_train, X_test, y_test, y_mesh = get_1d_data_with_constant_noise(\n",
    "    x_sinx, min_x, max_x, n_samples, sigma\n",
    ")"
   ]
  },
  {
   "cell_type": "code",
   "execution_count": null,
   "id": "01a00cc9-deb1-442e-ad6a-9299c580870f",
   "metadata": {},
   "outputs": [],
   "source": [
    "plt.xlabel(\"x\") ; plt.ylabel(\"y\")\n",
    "plt.scatter(X_train, y_train, color=\"C0\")\n",
    "_ = plt.plot(X_test, y_mesh, color=\"C1\")"
   ]
  },
  {
   "cell_type": "markdown",
   "id": "7a223f6f-1501-4a54-98fc-f558d05ba85c",
   "metadata": {},
   "source": [
    "### Définition du modèle de base"
   ]
  },
  {
   "cell_type": "markdown",
   "id": "77700275-67e5-41e4-b480-2d7b83eebc03",
   "metadata": {},
   "source": [
    "Nous considérons ici un modèle de régression [Random Forest](https://en.wikipedia.org/wiki/Random_forest) avec les valeurs par défaut de ``sklearn``."
   ]
  },
  {
   "cell_type": "code",
   "execution_count": null,
   "id": "325fabd0-1035-4099-8ad2-15fa678f14e2",
   "metadata": {},
   "outputs": [],
   "source": [
    "rf_model = RandomForestRegressor(random_state=RANDOM_SEED)"
   ]
  },
  {
   "cell_type": "markdown",
   "id": "cd83d699-6ff2-47b3-83a7-f7248edc3782",
   "metadata": {},
   "source": [
    "## 2. Approche 1 : Intervalles de prédiction par la méthode naive"
   ]
  },
  {
   "cell_type": "markdown",
   "id": "1604abe4-365a-47e3-ad6c-4e3adc8c1d88",
   "metadata": {},
   "source": [
    "Commençons ici par une méthode dite \"naive\"; les intervalles de prédiction sont définis directement à partir des résidus sur les données d'entraînement. "
   ]
  },
  {
   "cell_type": "markdown",
   "id": "a44ff2ab",
   "metadata": {},
   "source": [
    "---\n",
    "**Exercice 1**\n",
    "\n",
    "* Entrainer le modèle random forest sur le jeu d'entrainement\n",
    "* Utiliser le modèle entrainé pour prédire sur le jeu de données `X_train`\n",
    "* Calculer les résidus (erreurs) absolus de prédiction $|y\\_train - y\\_train\\_pred|$ \n",
    "* estimer le quantile associé à la distribution des résidus et un niveau de confiance défini à 95\\% (ou autrement dit à niveau de risque ``alpha`` de 5\\%), ce quantile servira de largeur pour la construction des intervalles de prédiction pour les nouvelles données de test (c.f. `np.quantile`)"
   ]
  },
  {
   "cell_type": "code",
   "execution_count": 8,
   "id": "5d382fdc-ccc3-451b-b37b-12b6bca9f43e",
   "metadata": {},
   "outputs": [],
   "source": [
    "# TODO\n",
    "mdl = rf_model\n",
    "mdl.fit(X_train, y_train)\n",
    "y_train_preds = mdl.predict(X_train)"
   ]
  },
  {
   "cell_type": "code",
   "execution_count": 9,
   "id": "3a6a83ef-12ad-4bfb-860e-a6b2a9e2daab",
   "metadata": {},
   "outputs": [],
   "source": [
    "# TODO\n",
    "residuals = np.abs(y_train - y_train_preds)"
   ]
  },
  {
   "cell_type": "code",
   "execution_count": null,
   "id": "53492857-bf1b-4fef-b71f-258e5f91ec87",
   "metadata": {},
   "outputs": [],
   "source": [
    "# TODO\n",
    "alpha = 0.05\n",
    "quantile = np.quantile(residuals, 1 - alpha, interpolation=\"higher\")"
   ]
  },
  {
   "cell_type": "markdown",
   "id": "11653b27-df5b-4c9b-b02a-e2851a3fcf56",
   "metadata": {},
   "source": [
    "---\n",
    "**Exercice 2** \n",
    "\n",
    "* Construisons maintenant les prédictions `y_test_preds` de taille (n_test, )\n",
    "* Calculer la borne supérieure `y_test_pred_upper` de l'intervalle de prédiction en ajoutant le quantile des résidus aux prédictions `y_test_preds`\n",
    "* Calculer la borne inferieure `y_test_pred_lower` de l'intervalle de prédiction en soustrayant le quantile des résidus aux prédictions `y_test_preds`"
   ]
  },
  {
   "cell_type": "code",
   "execution_count": null,
   "id": "826bf7c3-27af-46b1-b7ad-da1ca8f9b339",
   "metadata": {},
   "outputs": [],
   "source": [
    "# TODO\n",
    "y_test_preds = mdl.predict(X_test)\n",
    "y_test_pred_upper = y_test_preds + quantile\n",
    "y_test_pred_lower = y_test_preds - quantile"
   ]
  },
  {
   "cell_type": "markdown",
   "id": "45cfd558-dbe1-4b14-8ee9-8e0c249dc989",
   "metadata": {},
   "source": [
    "Visualisons les intervalles de prédictions estimés :"
   ]
  },
  {
   "cell_type": "code",
   "execution_count": null,
   "id": "ba7719eb-76d3-402f-9588-2adf12b25bdd",
   "metadata": {},
   "outputs": [],
   "source": [
    "fig, axs = plt.subplots(1, 1, figsize=(7, 5))\n",
    "plot_1d_data(\n",
    "    X_train.ravel(),\n",
    "    y_train.ravel(),\n",
    "    X_test.ravel(),\n",
    "    y_mesh.ravel(),\n",
    "    1.96*sigma,\n",
    "    y_test_preds.ravel(),\n",
    "    y_test_pred_lower,\n",
    "    y_test_pred_upper,\n",
    "    ax=axs,\n",
    "    title=\"Méthode Naive\"\n",
    ")"
   ]
  },
  {
   "cell_type": "markdown",
   "id": "16abcb7a-3c87-4c63-b6c1-81fb110ac2fc",
   "metadata": {},
   "source": [
    "----\n",
    "**Exercice 3**\n",
    "\n",
    "* Commenter les intervalles estimés par cette méthode par rapport aux intervalles théoriques d'après le graphique ci-dessus\n",
    "* Calculer la couverture `coverage` et la largeur `width` de l'intervalle de la méthode naive :\n",
    "    * la couverture est définie comme la des labels de test qui sont compris dans les intervalles estimés\n",
    "    * la largeur est la moyenne des écarts entre les bornes supérieures et inferieures des intervalles\n",
    "* Comparer ces valeurs avec les valeurs théoriques qui sont de 95% et 1.96 respectivement"
   ]
  },
  {
   "cell_type": "code",
   "execution_count": 13,
   "id": "3c41c0fb-b774-484b-8a06-e7b9e023a9df",
   "metadata": {},
   "outputs": [],
   "source": [
    "# TODO\n",
    "coverage = ((y_test > y_test_pred_lower) & (y_test < y_test_pred_upper)).mean().round(3)\n",
    "width = (y_test_pred_upper - y_test_pred_lower).mean().round(2)"
   ]
  },
  {
   "cell_type": "code",
   "execution_count": 14,
   "id": "7c47fbd5",
   "metadata": {},
   "outputs": [],
   "source": [
    "coverages_widths = pd.DataFrame(index=[\"Naive\"], columns=[\"Coverage\", \"Width\"])\n",
    "coverages_widths.loc[\"Naive\", \"Coverage\"] = coverage\n",
    "coverages_widths.loc[\"Naive\", \"Width\"] = width"
   ]
  },
  {
   "cell_type": "code",
   "execution_count": 15,
   "id": "4dee744d-bcd6-4b94-83cd-d5caaa9c200f",
   "metadata": {},
   "outputs": [
    {
     "data": {
      "text/html": [
       "<div>\n",
       "<style scoped>\n",
       "    .dataframe tbody tr th:only-of-type {\n",
       "        vertical-align: middle;\n",
       "    }\n",
       "\n",
       "    .dataframe tbody tr th {\n",
       "        vertical-align: top;\n",
       "    }\n",
       "\n",
       "    .dataframe thead th {\n",
       "        text-align: right;\n",
       "    }\n",
       "</style>\n",
       "<table border=\"1\" class=\"dataframe\">\n",
       "  <thead>\n",
       "    <tr style=\"text-align: right;\">\n",
       "      <th></th>\n",
       "      <th>Coverage</th>\n",
       "      <th>Width</th>\n",
       "    </tr>\n",
       "  </thead>\n",
       "  <tbody>\n",
       "    <tr>\n",
       "      <th>Naive</th>\n",
       "      <td>0.498</td>\n",
       "      <td>0.77</td>\n",
       "    </tr>\n",
       "  </tbody>\n",
       "</table>\n",
       "</div>"
      ],
      "text/plain": [
       "      Coverage Width\n",
       "Naive    0.498  0.77"
      ]
     },
     "execution_count": 15,
     "metadata": {},
     "output_type": "execute_result"
    }
   ],
   "source": [
    "coverages_widths"
   ]
  },
  {
   "cell_type": "markdown",
   "id": "f3a73558-252f-4009-9703-fbb489856e3e",
   "metadata": {},
   "source": [
    "***TODO***\n",
    "> Il semble que les intervalles de prédiction estimés avec cette première méthodes sont beaucoup plus étroits que les intervalles de confiance \"théoriques\" que nous cherchions à reproduire.\n",
    "\n",
    "> La couverture effective n'est seulement que de $\\sim 0.5$ ! Seulement la moitié des données de test sont compris dans les intervalles de prédiction de cette première méthode alors que nous cherchons à avoir un niveau de confiance de 95 \\%. Cette faible couverture est due aux intervalles étroits, leur largeur n'étant que de 0.77 alors que la largeur théorique est de 1.96.\n",
    "\n",
    "> Ce résultat n'est pas surprenant, nous avons estimer les résidus directement à partir des données d'entraînement qui ont été utilisés pour optimiser le modèle. Un modèle comme le Random Forest a tendance à sur-apprendre (ou overfitter), et produit donc des résidus beaucoup trop faibles et donc des intervalles de prédiction beaucoup trop optimistes."
   ]
  },
  {
   "cell_type": "markdown",
   "id": "2b6f04c9-e333-4249-a509-cde184fb253c",
   "metadata": {},
   "source": [
    "## 3. Approche 2 : Intervalles de prédiction par séparation en jeux d'entraînement et de calibration"
   ]
  },
  {
   "cell_type": "markdown",
   "id": "fd5b38ed-8939-4fe1-bc4b-42b701ced203",
   "metadata": {},
   "source": [
    "Pour résoudre le problème de surapprentissage survenu lors de la première méthode, il est nécessaire de créer un jeu de calibration afin de calibrer les résidus sur des données qui n'auront pas été vues lors de l'entraînement du modèle.\n",
    "\n",
    "\n",
    "---\n",
    "**Exercice 4**\n",
    "\n",
    "Pour construire les intervalles de prédiction avec cette nouvelle méthode, il faut donc :\n",
    "\n",
    "- créer deux jeux d'entraînement (``X_train_train`` et ``y_train_train``) et de calibration (``X_train_calib`` et ``y_train_calib``) à partir des données d'entraînement  (``X_train`` et ``y_train``). Les données de calibrations représenterons 25% des données de l'entrainement \n",
    "- entraîner le modèle de base ``mdl`` sur les données d'entraînement ``X_train_train`` et ``y_train_train``\n",
    "- estimer les résidus ``residuals`` sur les données de calibration(``X_train_calib`` et ``y_train_calib``)\n",
    "- estimer le quantile associé à la distribution des résidus et un niveau de confiance défini à 95\\%, ce quantile servira de largeur pour la construction des intervalles de prédiction pour les nouvelles données de test\n",
    "- Prédire le jeu de test `y_test_preds` puis calculer les bornes supérieures et inférieures des intervalles de prédictions"
   ]
  },
  {
   "cell_type": "code",
   "execution_count": 16,
   "id": "2406242f-5f11-4118-8e7c-48393a39e5f5",
   "metadata": {},
   "outputs": [],
   "source": [
    "# TODO\n",
    "\n",
    "X_train_train, X_train_calib, y_train_train, y_train_calib = train_test_split(\n",
    "    X_train, y_train, test_size=0.25, shuffle=True, random_state=RANDOM_SEED\n",
    ")"
   ]
  },
  {
   "cell_type": "code",
   "execution_count": 17,
   "id": "ffbbf533-1c11-446e-bb7e-a1f40e67efeb",
   "metadata": {},
   "outputs": [],
   "source": [
    "# TODO\n",
    "mdl = rf_model\n",
    "mdl.fit(X_train_train, y_train_train)\n",
    "y_train_preds = mdl.predict(X_train_calib)\n",
    "residuals = np.abs(y_train_calib - y_train_preds)"
   ]
  },
  {
   "cell_type": "code",
   "execution_count": 18,
   "id": "eda37a3c-cb5f-455d-93f5-5abff89b48f3",
   "metadata": {},
   "outputs": [],
   "source": [
    "alpha = 0.05\n",
    "quantile = np.quantile(residuals, 1 - alpha, interpolation=\"higher\")"
   ]
  },
  {
   "cell_type": "code",
   "execution_count": 19,
   "id": "1fbc9317-2e12-48ec-a488-5266ea1f9f30",
   "metadata": {},
   "outputs": [],
   "source": [
    "# TODO\n",
    "y_test_preds = mdl.predict(X_test)\n",
    "y_test_pred_upper = y_test_preds + quantile\n",
    "y_test_pred_lower = y_test_preds - quantile"
   ]
  },
  {
   "cell_type": "markdown",
   "id": "300a9c2d-1e43-4624-8062-e09368c6c75e",
   "metadata": {},
   "source": [
    "Comparons maintenant les intervalles de prédiction estimés par cette méthode \"Train/calibration split\" avec les \"vraies\" intervalles de confiance associés au bruit gaussien de nos données."
   ]
  },
  {
   "cell_type": "code",
   "execution_count": 20,
   "id": "5e545769-83fe-4295-b5da-d08965807592",
   "metadata": {},
   "outputs": [
    {
     "data": {
      "image/png": "[encoded data removed]",
      "text/plain": [
       "<Figure size 504x360 with 1 Axes>"
      ]
     },
     "metadata": {
      "needs_background": "light"
     },
     "output_type": "display_data"
    }
   ],
   "source": [
    "fig, axs = plt.subplots(1, 1, figsize=(7, 5))\n",
    "plot_1d_data(\n",
    "    X_train.ravel(),\n",
    "    y_train.ravel(),\n",
    "    X_test.ravel(),\n",
    "    y_mesh.ravel(),\n",
    "    1.96*sigma,\n",
    "    y_test_preds.ravel(),\n",
    "    y_test_pred_lower,\n",
    "    y_test_pred_upper,\n",
    "    ax=axs,\n",
    "    title=\"Train/calibration split\"\n",
    ")"
   ]
  },
  {
   "cell_type": "markdown",
   "id": "b9cef5f1-b893-407a-a9e5-95827a5463d8",
   "metadata": {},
   "source": [
    "---\n",
    "**Exercice 5**\n",
    "\n",
    "* Commenter la visualisation des nouveaux intervalles par rapport à ceux de la méthode naive\n",
    "* Calculer à nouveau la couverture `coverage` et la largeur `width` \n",
    "* Comparer avec les valeurs théoriques et la méthode naive"
   ]
  },
  {
   "cell_type": "code",
   "execution_count": 21,
   "id": "5f2ff3de",
   "metadata": {},
   "outputs": [],
   "source": [
    "# TODO\n",
    "coverage = ((y_test > y_test_pred_lower) & (y_test < y_test_pred_upper)).mean().round(3)\n",
    "width = (y_test_pred_upper - y_test_pred_lower).mean().round(2)"
   ]
  },
  {
   "cell_type": "code",
   "execution_count": 22,
   "id": "63876fae-d0a6-49ae-8b5d-3258949847f5",
   "metadata": {},
   "outputs": [],
   "source": [
    "coverages_widths.loc[\"Train/calib split\", \"Coverage\"] = coverage\n",
    "coverages_widths.loc[\"Train/calib split\", \"Width\"] = width"
   ]
  },
  {
   "cell_type": "code",
   "execution_count": 23,
   "id": "e6364d5f-0db5-45c0-a313-e764428f33be",
   "metadata": {},
   "outputs": [
    {
     "data": {
      "text/html": [
       "<div>\n",
       "<style scoped>\n",
       "    .dataframe tbody tr th:only-of-type {\n",
       "        vertical-align: middle;\n",
       "    }\n",
       "\n",
       "    .dataframe tbody tr th {\n",
       "        vertical-align: top;\n",
       "    }\n",
       "\n",
       "    .dataframe thead th {\n",
       "        text-align: right;\n",
       "    }\n",
       "</style>\n",
       "<table border=\"1\" class=\"dataframe\">\n",
       "  <thead>\n",
       "    <tr style=\"text-align: right;\">\n",
       "      <th></th>\n",
       "      <th>Coverage</th>\n",
       "      <th>Width</th>\n",
       "    </tr>\n",
       "  </thead>\n",
       "  <tbody>\n",
       "    <tr>\n",
       "      <th>Naive</th>\n",
       "      <td>0.498</td>\n",
       "      <td>0.77</td>\n",
       "    </tr>\n",
       "    <tr>\n",
       "      <th>Train/calib split</th>\n",
       "      <td>0.854</td>\n",
       "      <td>1.74</td>\n",
       "    </tr>\n",
       "  </tbody>\n",
       "</table>\n",
       "</div>"
      ],
      "text/plain": [
       "                  Coverage Width\n",
       "Naive                0.498  0.77\n",
       "Train/calib split    0.854  1.74"
      ]
     },
     "execution_count": 23,
     "metadata": {},
     "output_type": "execute_result"
    }
   ],
   "source": [
    "coverages_widths"
   ]
  },
  {
   "cell_type": "markdown",
   "id": "9228b562-f699-4c5f-968e-d4d64a657bb7",
   "metadata": {},
   "source": [
    "***TODO***\n",
    "\n",
    "> Cette nouvelle méthode semble produire des intervalles de prédiction beaucoup plus larges que la méthode \"naive\" ! Pour vérifier quantitativement cette impression visuelle, calculs la couverture effective et la largeur moyenne des intervalles de prédiction.\n",
    "\n",
    "> La couverture effective a augmenté sensiblement, passant de 0.48 à 0.85 ! L'estimation des résidus sur un jeu de calibration jamais vu par le modèle lors de l'entraînement a permis d'obtenir des intervalles de prédiction plus robustes et \"généralisables\". Cependant, les intervalles de prédiction sont encore un peu trop étroits, induisant une couverture encore insuffisante. De plus, nous avons du \"sacrifier\" une partie de nos données pour les mettre de coté."
   ]
  },
  {
   "cell_type": "markdown",
   "id": "5e9de2a0-cf9e-4c43-95e4-8bb813cdba07",
   "metadata": {},
   "source": [
    "## 4. Intervalles de prédiction par validation croisée"
   ]
  },
  {
   "cell_type": "markdown",
   "id": "f8d0d9dc-945f-4f32-b866-7522eddd3ee7",
   "metadata": {},
   "source": [
    "Afin de pouvoir utiliser l'intégralité des données d'entraînement pour l'entraînement *et* la calibration du modèle, nous allons maintenant adopter une stratégie de validation croisée. Pour ce faire, nous allons séparer nos données d'entraînement en $K$ plis, le modèle de base sera ainsi entraîné $K$ fois, chacun sur $K-1$ plis le dernier pli servira ensuite de jeu de calibration.\n",
    "\n",
    "\n",
    "---\n",
    "**Exercice 6**\n",
    "\n",
    "Pour construire les intervalles de prédiction avec cette nouvelle méthode, il faut donc :\n",
    "\n",
    "- Utiliser `KFold` de `sklearn` afin séparer le jeu d'entraînement en 5 plis (i.e. k = 5)\n",
    "- via une boucle `for`:\n",
    "    * entraîner le modèle de base ``mdl`` sur chaque jeu d'entraînement généré par `KFold`\n",
    "    * sauvegarder les prédictions de chaque donnée du plis de calibration\n",
    "- estimer les résidus ``residuals`` sur l'ensemble du jeu d'entraînement\n",
    "- estimer le quantile 95% associé à la distribution des résidus\n",
    "- Entrainer un modèle sur l'ensemble des données d'entrainement `X_train` et l'utiliser pour prédire le jeu de test `y_test_preds`\n",
    "- calculer les bornes supérieures et inférieures des intervalles de prédictions pour les prédicitions du jeu de test `y_test_preds`"
   ]
  },
  {
   "cell_type": "code",
   "execution_count": 24,
   "id": "34cc8d59",
   "metadata": {},
   "outputs": [],
   "source": [
    "# TODO\n",
    "\n",
    "mdl = rf_model\n",
    "kf = KFold(n_splits=5, shuffle=True, random_state=RANDOM_SEED)\n",
    "y_train_preds = np.empty_like(y_train)\n",
    "\n",
    "for train_index, calib_index in kf.split(X_train):\n",
    "    mdl_ = mdl.fit(X_train[train_index], y_train[train_index])\n",
    "    y_train_preds[calib_index] = mdl_.predict(X_train[calib_index])\n",
    "\n",
    "residuals = np.abs(y_train - y_train_preds)"
   ]
  },
  {
   "cell_type": "code",
   "execution_count": 25,
   "id": "6cf13a9d-8137-4ace-a671-b6d4a2bdffdb",
   "metadata": {},
   "outputs": [],
   "source": [
    "# TODO\n",
    "alpha = 0.05\n",
    "quantile = np.quantile(residuals, 1 - alpha, interpolation=\"higher\")"
   ]
  },
  {
   "cell_type": "code",
   "execution_count": 26,
   "id": "e217ce50-fe87-4cde-b76c-458447164507",
   "metadata": {},
   "outputs": [],
   "source": [
    "# TODO\n",
    "mdl.fit(X_train, y_train)\n",
    "y_test_preds = mdl.predict(X_test)\n",
    "y_test_pred_upper = y_test_preds + quantile\n",
    "y_test_pred_lower = y_test_preds - quantile"
   ]
  },
  {
   "cell_type": "markdown",
   "id": "5ad06ece-fa28-474d-a252-6e31f3d9c02f",
   "metadata": {},
   "source": [
    "Comparons maintenant les intervalles de prédiction estimés par cette méthode \"Cross-validation\" avec les \"vraies\" intervalles de confiance associés au bruit gaussien de nos données."
   ]
  },
  {
   "cell_type": "code",
   "execution_count": 27,
   "id": "7cc59d0f-de5f-434f-8a12-a69e1664891a",
   "metadata": {},
   "outputs": [
    {
     "data": {
      "image/png": "[encoded data removed]",
      "text/plain": [
       "<Figure size 504x360 with 1 Axes>"
      ]
     },
     "metadata": {
      "needs_background": "light"
     },
     "output_type": "display_data"
    }
   ],
   "source": [
    "fig, axs = plt.subplots(1, 1, figsize=(7, 5))\n",
    "plot_1d_data(\n",
    "    X_train.ravel(),\n",
    "    y_train.ravel(),\n",
    "    X_test.ravel(),\n",
    "    y_mesh.ravel(),\n",
    "    1.96*sigma,\n",
    "    y_test_preds.ravel(),\n",
    "    y_test_pred_lower,\n",
    "    y_test_pred_upper,\n",
    "    ax=axs,\n",
    "    title=\"Cross-validation\"\n",
    ")"
   ]
  },
  {
   "cell_type": "markdown",
   "id": "23663436",
   "metadata": {},
   "source": [
    "---\n",
    "**Exercice 7**\n",
    "\n",
    "* Commenter la visualisation des nouveaux intervalles par rapport à ceux des méthodes précédentes\n",
    "* Calculer à nouveau la couverture `coverage` et la largeur `width` \n",
    "* Comparer avec les valeurs théoriques et les méthdes précédentes"
   ]
  },
  {
   "cell_type": "code",
   "execution_count": 28,
   "id": "048d0d3b",
   "metadata": {},
   "outputs": [],
   "source": [
    "# TODO\n",
    "\n",
    "coverage = ((y_test > y_test_pred_lower) & (y_test < y_test_pred_upper)).mean().round(3)\n",
    "width = (y_test_pred_upper - y_test_pred_lower).mean().round(2)"
   ]
  },
  {
   "cell_type": "code",
   "execution_count": 29,
   "id": "49785fa6-66ba-46de-a019-ce9dec49ef48",
   "metadata": {},
   "outputs": [],
   "source": [
    "coverages_widths.loc[\"Cross-validation\", \"Coverage\"] = coverage\n",
    "coverages_widths.loc[\"Cross-validation\", \"Width\"] = width"
   ]
  },
  {
   "cell_type": "code",
   "execution_count": 30,
   "id": "c4788d54-2887-4a76-902c-9b55008e3180",
   "metadata": {},
   "outputs": [
    {
     "data": {
      "text/html": [
       "<div>\n",
       "<style scoped>\n",
       "    .dataframe tbody tr th:only-of-type {\n",
       "        vertical-align: middle;\n",
       "    }\n",
       "\n",
       "    .dataframe tbody tr th {\n",
       "        vertical-align: top;\n",
       "    }\n",
       "\n",
       "    .dataframe thead th {\n",
       "        text-align: right;\n",
       "    }\n",
       "</style>\n",
       "<table border=\"1\" class=\"dataframe\">\n",
       "  <thead>\n",
       "    <tr style=\"text-align: right;\">\n",
       "      <th></th>\n",
       "      <th>Coverage</th>\n",
       "      <th>Width</th>\n",
       "    </tr>\n",
       "  </thead>\n",
       "  <tbody>\n",
       "    <tr>\n",
       "      <th>Naive</th>\n",
       "      <td>0.498</td>\n",
       "      <td>0.77</td>\n",
       "    </tr>\n",
       "    <tr>\n",
       "      <th>Train/calib split</th>\n",
       "      <td>0.854</td>\n",
       "      <td>1.74</td>\n",
       "    </tr>\n",
       "    <tr>\n",
       "      <th>Cross-validation</th>\n",
       "      <td>0.918</td>\n",
       "      <td>2.11</td>\n",
       "    </tr>\n",
       "  </tbody>\n",
       "</table>\n",
       "</div>"
      ],
      "text/plain": [
       "                  Coverage Width\n",
       "Naive                0.498  0.77\n",
       "Train/calib split    0.854  1.74\n",
       "Cross-validation     0.918  2.11"
      ]
     },
     "execution_count": 30,
     "metadata": {},
     "output_type": "execute_result"
    }
   ],
   "source": [
    "coverages_widths"
   ]
  },
  {
   "cell_type": "markdown",
   "id": "b7aae6cf-fc93-4ff6-abde-3806ea4ff1aa",
   "metadata": {},
   "source": [
    "***TODO***\n",
    "\n",
    "> Nous obtenons à présent une couverture effective 92% qui se rapproche bien de la couverture \"cible\" de 95 \\% ! Félicitations ! Grâce à la stratégie de validation croisée, nous avons ainsi utilisé l'intégralité des données d'entraînement pour estimer les résidus et les intervalles de prédiction."
   ]
  },
  {
   "cell_type": "markdown",
   "id": "c99a362f-14f3-4b71-89a7-29ac654a72f9",
   "metadata": {},
   "source": [
    "## 5. Estimation d'intervalles de prédiction avec MAPIE"
   ]
  },
  {
   "cell_type": "markdown",
   "id": "c258eaa3-1778-48b3-a3fc-f23c80cf17ea",
   "metadata": {},
   "source": [
    "Bien que très simple à mettre en place et intuitive, la stratégie de validation croisée est au coeur des méthodes de prédiction conforme développées notamment depuis une vingtaine d'années dans la communauté scientifique. Il s'agit tout simplement de calibrer des *scores*, ici les résidus, sur des données qui n'ont pas été vues par le modèle durant son entraînement. \n",
    "\n",
    "Deux inconvénients demeurent néanmoins dans la méthode implémentée précédemment : \n",
    "- les intervalles de prédiction ainsi construits restent constants avec $X$ et ne permettent pas de capturer une augmentation de l'incertitude sur de nouveaux domaines de valeurs jamais vus par le modèle durant son entraînement.\n",
    "-  des instabilités peuvent survenir dans certains cas de haute dimensionalité (ou sur des faibles tailles de jeux de données)\n",
    "\n",
    "Nous avons ainsi développé à Quantmetry un package dénommé MAPIE (pour Model Agnostic Prediction Interval Estimator) afin d'estimer des intervalles de prédiction grâce à l'implémentation de méthodes de prédiction conforme à l'état de l'art, et nous permettant de résoudre les deux problèmes mentionnés plus haut.\n",
    "\n",
    "Nous allons utiliser la méthode `CV+` de MAPIE, qui est une variante de la validation croisée implémentée précédemment."
   ]
  },
  {
   "cell_type": "markdown",
   "id": "478c9019-bba0-4709-bc29-bfadd0f88252",
   "metadata": {},
   "source": [
    "---\n",
    "**Exercice 8**\n",
    "\n",
    "Le dernier exercice consiste maintenant à utiliser MAPIE pour estimer des intervalles de prédiction grâce à la méthode CV+. Pour ce faire, nous vous invitons à regarder la documentation disponible [ici](https://mapie.readthedocs.io/en/latest/), notamment les tutoriels ainsi que la [description théorique pour la régression](https://mapie.readthedocs.io/en/latest/theoretical_description_regression.html). "
   ]
  },
  {
   "cell_type": "code",
   "execution_count": 31,
   "id": "6c608786-3d4b-4380-919c-21ec3fc32099",
   "metadata": {},
   "outputs": [
    {
     "data": {
      "text/plain": [
       "MapieRegressor(cv=KFold(n_splits=5, random_state=72, shuffle=True),\n",
       "               estimator=RandomForestRegressor(random_state=72))"
      ]
     },
     "execution_count": 31,
     "metadata": {},
     "output_type": "execute_result"
    }
   ],
   "source": [
    "# TODO\n",
    "\n",
    "mdl = rf_model\n",
    "mapie = MapieRegressor(estimator=mdl, method=\"plus\", cv=KFold(5, shuffle=True, random_state=RANDOM_SEED))\n",
    "mapie.fit(X_train, y_train)"
   ]
  },
  {
   "cell_type": "code",
   "execution_count": 32,
   "id": "d994975c",
   "metadata": {},
   "outputs": [],
   "source": [
    "alpha = 0.05\n",
    "y_test_preds, y_test_pis = mapie.predict(X_test, alpha=alpha)\n",
    "\n",
    "y_test_pred_lower = y_test_pis[:, 0, 0]\n",
    "y_test_pred_upper = y_test_pis[:, 1, 0]"
   ]
  },
  {
   "cell_type": "markdown",
   "id": "f79a0a12-9abf-4d9d-9ffa-6e5ef1a21063",
   "metadata": {},
   "source": [
    "Comparons maintenant les intervalles de prédiction estimés par cette méthode \"Cross-validation\" avec les \"vraies\" intervalles de confiance associés au bruit gaussien de nos données."
   ]
  },
  {
   "cell_type": "code",
   "execution_count": 33,
   "id": "35471647-85b8-494a-a8d7-459925aaae08",
   "metadata": {},
   "outputs": [
    {
     "data": {
      "image/png": "[encoded data removed]",
      "text/plain": [
       "<Figure size 504x360 with 1 Axes>"
      ]
     },
     "metadata": {
      "needs_background": "light"
     },
     "output_type": "display_data"
    }
   ],
   "source": [
    "fig, axs = plt.subplots(1, 1, figsize=(7, 5))\n",
    "plot_1d_data(\n",
    "    X_train.ravel(),\n",
    "    y_train.ravel(),\n",
    "    X_test.ravel(),\n",
    "    y_mesh.ravel(),\n",
    "    1.96*sigma,\n",
    "    y_test_preds.ravel(),\n",
    "    y_test_pred_lower,\n",
    "    y_test_pred_upper,\n",
    "    ax=axs,\n",
    "    title=\"MAPIE\"\n",
    ")"
   ]
  },
  {
   "cell_type": "code",
   "execution_count": 34,
   "id": "03ca803c-3375-4fff-af47-30994e18303c",
   "metadata": {},
   "outputs": [],
   "source": [
    "# TODO\n",
    "coverage = ((y_test > y_test_pred_lower) & (y_test < y_test_pred_upper)).mean().round(3)\n",
    "width = (y_test_pred_upper - y_test_pred_lower).mean().round(2)"
   ]
  },
  {
   "cell_type": "code",
   "execution_count": 35,
   "id": "c64b4f7d",
   "metadata": {},
   "outputs": [],
   "source": [
    "coverages_widths.loc[\"MAPIE\", \"Coverage\"] = coverage\n",
    "coverages_widths.loc[\"MAPIE\", \"Width\"] = width"
   ]
  },
  {
   "cell_type": "code",
   "execution_count": 36,
   "id": "c8ae2bd9-f2cb-4c0d-87c2-20f7c2315e74",
   "metadata": {
    "scrolled": true
   },
   "outputs": [
    {
     "data": {
      "text/html": [
       "<div>\n",
       "<style scoped>\n",
       "    .dataframe tbody tr th:only-of-type {\n",
       "        vertical-align: middle;\n",
       "    }\n",
       "\n",
       "    .dataframe tbody tr th {\n",
       "        vertical-align: top;\n",
       "    }\n",
       "\n",
       "    .dataframe thead th {\n",
       "        text-align: right;\n",
       "    }\n",
       "</style>\n",
       "<table border=\"1\" class=\"dataframe\">\n",
       "  <thead>\n",
       "    <tr style=\"text-align: right;\">\n",
       "      <th></th>\n",
       "      <th>Coverage</th>\n",
       "      <th>Width</th>\n",
       "    </tr>\n",
       "  </thead>\n",
       "  <tbody>\n",
       "    <tr>\n",
       "      <th>Naive</th>\n",
       "      <td>0.498</td>\n",
       "      <td>0.77</td>\n",
       "    </tr>\n",
       "    <tr>\n",
       "      <th>Train/calib split</th>\n",
       "      <td>0.854</td>\n",
       "      <td>1.74</td>\n",
       "    </tr>\n",
       "    <tr>\n",
       "      <th>Cross-validation</th>\n",
       "      <td>0.918</td>\n",
       "      <td>2.11</td>\n",
       "    </tr>\n",
       "    <tr>\n",
       "      <th>MAPIE</th>\n",
       "      <td>0.936</td>\n",
       "      <td>2.13</td>\n",
       "    </tr>\n",
       "  </tbody>\n",
       "</table>\n",
       "</div>"
      ],
      "text/plain": [
       "                  Coverage Width\n",
       "Naive                0.498  0.77\n",
       "Train/calib split    0.854  1.74\n",
       "Cross-validation     0.918  2.11\n",
       "MAPIE                0.936  2.13"
      ]
     },
     "execution_count": 36,
     "metadata": {},
     "output_type": "execute_result"
    }
   ],
   "source": [
    "coverages_widths"
   ]
  },
  {
   "cell_type": "markdown",
   "id": "d1d46cc3",
   "metadata": {},
   "source": [
    "> La méthode CV+ nous permet de nous rapprocher encore plus de la couverture cible avec une couverture effective de 0.94. En outre, la largeur de l'intervalle de prédiction et similaire à celui fourni par la méthode de validation croisée simple.\n",
    "\n",
    "> La librairie MAPIE implémente plusieurs autres méthodes à l'état de l'art, n'hésitez pas à jeter un coup d'oeil à la documentation ainsi qu'aux tutoriels"
   ]
  },
  {
   "cell_type": "code",
   "execution_count": null,
   "id": "14a17818",
   "metadata": {},
   "outputs": [],
   "source": []
  }
 ],
 "metadata": {
  "kernelspec": {
   "display_name": "Python 3 (ipykernel)",
   "language": "python",
   "name": "python3"
  },
  "language_info": {
   "codemirror_mode": {
    "name": "ipython",
    "version": 3
   },
   "file_extension": ".py",
   "mimetype": "text/x-python",
   "name": "python",
   "nbconvert_exporter": "python",
   "pygments_lexer": "ipython3",
   "version": "3.8.13"
  },
  "toc-autonumbering": false
 },
 "nbformat": 4,
 "nbformat_minor": 5
}
